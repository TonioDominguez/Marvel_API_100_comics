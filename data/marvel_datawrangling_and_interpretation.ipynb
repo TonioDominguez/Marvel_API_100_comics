{
 "cells": [
  {
   "cell_type": "markdown",
   "id": "12088ac5",
   "metadata": {},
   "source": [
    "# Cleaning and formating"
   ]
  },
  {
   "cell_type": "markdown",
   "id": "81075dc4",
   "metadata": {},
   "source": [
    "Our csv comes pretty clean from our previous work during datamining (where we took the opportunity to standardize the column names). We will only have to deal with some null values and some formatting work."
   ]
  },
  {
   "cell_type": "markdown",
   "id": "94e8009f",
   "metadata": {},
   "source": [
    "### Setting up"
   ]
  },
  {
   "cell_type": "markdown",
   "id": "44f6af49",
   "metadata": {},
   "source": [
    "We start by organizing the csv upload in dataframe in order to be able to work. We also look at the info to see the data type of the elements."
   ]
  },
  {
   "cell_type": "code",
   "execution_count": 1,
   "id": "4f17df1f",
   "metadata": {},
   "outputs": [],
   "source": [
    "import pandas as pd"
   ]
  },
  {
   "cell_type": "code",
   "execution_count": 2,
   "id": "0f14b4a0",
   "metadata": {},
   "outputs": [],
   "source": [
    "data = pd.read_csv(\"marvel_comics.csv\")"
   ]
  },
  {
   "cell_type": "code",
   "execution_count": 3,
   "id": "d56a1720",
   "metadata": {},
   "outputs": [],
   "source": [
    "df = data.copy()"
   ]
  },
  {
   "cell_type": "code",
   "execution_count": 4,
   "id": "10716790",
   "metadata": {},
   "outputs": [
    {
     "name": "stdout",
     "output_type": "stream",
     "text": [
      "<class 'pandas.core.frame.DataFrame'>\n",
      "RangeIndex: 100 entries, 0 to 99\n",
      "Data columns (total 12 columns):\n",
      " #   Column           Non-Null Count  Dtype  \n",
      "---  ------           --------------  -----  \n",
      " 0   Unnamed: 0       100 non-null    int64  \n",
      " 1   title            100 non-null    object \n",
      " 2   series           100 non-null    object \n",
      " 3   on_sale_date     100 non-null    object \n",
      " 4   creators         100 non-null    object \n",
      " 5   creators_editor  100 non-null    object \n",
      " 6   creators_writer  100 non-null    object \n",
      " 7   description      90 non-null     object \n",
      " 8   characters       31 non-null     object \n",
      " 9   format           100 non-null    object \n",
      " 10  n_of_pages       100 non-null    int64  \n",
      " 11  price            100 non-null    float64\n",
      "dtypes: float64(1), int64(2), object(9)\n",
      "memory usage: 9.5+ KB\n"
     ]
    }
   ],
   "source": [
    "df.info()"
   ]
  },
  {
   "cell_type": "code",
   "execution_count": 5,
   "id": "5f6be3e3",
   "metadata": {},
   "outputs": [],
   "source": [
    "df.columns = df.columns.str.lower().str.replace(\" \",\"_\")"
   ]
  },
  {
   "cell_type": "markdown",
   "id": "90b91baf",
   "metadata": {},
   "source": [
    "### Dealing with nulls and columns standardization"
   ]
  },
  {
   "cell_type": "markdown",
   "id": "3ac9fadb",
   "metadata": {},
   "source": [
    "Here we have little work to do. We discard the possible indexes that have all null values, get rid of the old dataframe index that we exported as csv and fill in the null values according to the value in their columns. "
   ]
  },
  {
   "cell_type": "code",
   "execution_count": 6,
   "id": "f8bdcd50",
   "metadata": {},
   "outputs": [],
   "source": [
    "df.dropna(how=\"all\", inplace=True)"
   ]
  },
  {
   "cell_type": "code",
   "execution_count": 7,
   "id": "6651683e",
   "metadata": {},
   "outputs": [
    {
     "data": {
      "text/plain": [
       "Index(['unnamed:_0', 'title', 'series', 'on_sale_date', 'creators',\n",
       "       'creators_editor', 'creators_writer', 'description', 'characters',\n",
       "       'format', 'n_of_pages', 'price'],\n",
       "      dtype='object')"
      ]
     },
     "execution_count": 7,
     "metadata": {},
     "output_type": "execute_result"
    }
   ],
   "source": [
    "df.columns"
   ]
  },
  {
   "cell_type": "code",
   "execution_count": 8,
   "id": "d9bd78eb",
   "metadata": {},
   "outputs": [],
   "source": [
    "df.drop([\"unnamed:_0\"], axis=1, inplace=True)"
   ]
  },
  {
   "cell_type": "code",
   "execution_count": 9,
   "id": "ada4eda6",
   "metadata": {},
   "outputs": [],
   "source": [
    "df.description.fillna(\"Not given\", inplace=True)"
   ]
  },
  {
   "cell_type": "code",
   "execution_count": 10,
   "id": "bdc08ec9",
   "metadata": {},
   "outputs": [],
   "source": [
    "df.characters.fillna(\"Not given\", inplace=True)"
   ]
  },
  {
   "cell_type": "markdown",
   "id": "8f96486f",
   "metadata": {},
   "source": [
    "### Dealing with on_sale_date"
   ]
  },
  {
   "cell_type": "markdown",
   "id": "a86d9148",
   "metadata": {},
   "source": [
    "For the column of dates we have, we use the datetime method. So we can work with these values in a more efficient way, passing them **from object type to datetime64**."
   ]
  },
  {
   "cell_type": "code",
   "execution_count": 11,
   "id": "88ef1321",
   "metadata": {},
   "outputs": [],
   "source": [
    "df.on_sale_date = pd.to_datetime(df.on_sale_date, format= \"%Y-%m-%d\")"
   ]
  },
  {
   "cell_type": "code",
   "execution_count": 12,
   "id": "88223ad5",
   "metadata": {},
   "outputs": [
    {
     "data": {
      "text/plain": [
       "title                      object\n",
       "series                     object\n",
       "on_sale_date       datetime64[ns]\n",
       "creators                   object\n",
       "creators_editor            object\n",
       "creators_writer            object\n",
       "description                object\n",
       "characters                 object\n",
       "format                     object\n",
       "n_of_pages                  int64\n",
       "price                     float64\n",
       "dtype: object"
      ]
     },
     "execution_count": 12,
     "metadata": {},
     "output_type": "execute_result"
    }
   ],
   "source": [
    "df.dtypes"
   ]
  },
  {
   "cell_type": "markdown",
   "id": "98043202",
   "metadata": {},
   "source": [
    "### DataFrame Sneak Peak"
   ]
  },
  {
   "cell_type": "markdown",
   "id": "36b7b61a",
   "metadata": {},
   "source": [
    "We leave this section here to have a visualization of the df already standardized. It will help us to work in the following steps: grouping, filtering and visualization of the data."
   ]
  },
  {
   "cell_type": "code",
   "execution_count": 84,
   "id": "c7ec1bea",
   "metadata": {},
   "outputs": [
    {
     "data": {
      "text/html": [
       "<div>\n",
       "<style scoped>\n",
       "    .dataframe tbody tr th:only-of-type {\n",
       "        vertical-align: middle;\n",
       "    }\n",
       "\n",
       "    .dataframe tbody tr th {\n",
       "        vertical-align: top;\n",
       "    }\n",
       "\n",
       "    .dataframe thead th {\n",
       "        text-align: right;\n",
       "    }\n",
       "</style>\n",
       "<table border=\"1\" class=\"dataframe\">\n",
       "  <thead>\n",
       "    <tr style=\"text-align: right;\">\n",
       "      <th></th>\n",
       "      <th>title</th>\n",
       "      <th>series</th>\n",
       "      <th>on_sale_date</th>\n",
       "      <th>creators</th>\n",
       "      <th>creators_editor</th>\n",
       "      <th>creators_writer</th>\n",
       "      <th>description</th>\n",
       "      <th>characters</th>\n",
       "      <th>format</th>\n",
       "      <th>n_of_pages</th>\n",
       "      <th>price</th>\n",
       "    </tr>\n",
       "  </thead>\n",
       "  <tbody>\n",
       "    <tr>\n",
       "      <th>84</th>\n",
       "      <td>The Amazing Spider-Man (2022) #40 (Variant)</td>\n",
       "      <td>The Amazing Spider-Man (2022 - Present)</td>\n",
       "      <td>2023-12-20</td>\n",
       "      <td>Vc Joe Caramagna, Sean “Cheeks” Galloway, Scot...</td>\n",
       "      <td>Emily Newcomen</td>\n",
       "      <td>['Zeb Wells']</td>\n",
       "      <td>GANG WAR CONTINUES! Battle lines are drawn, wi...</td>\n",
       "      <td>Not given</td>\n",
       "      <td>Comic</td>\n",
       "      <td>32</td>\n",
       "      <td>4.99</td>\n",
       "    </tr>\n",
       "    <tr>\n",
       "      <th>59</th>\n",
       "      <td>Deadly Hands of Kung Fu: Gang War (2023) #1 (V...</td>\n",
       "      <td>Deadly Hands of Kung Fu: Gang War (2023 - Pres...</td>\n",
       "      <td>2023-12-27</td>\n",
       "      <td>Vc Travis Lanham, Caio Majado, Greg Pak, Darre...</td>\n",
       "      <td>Darren Shan</td>\n",
       "      <td>['Greg Pak']</td>\n",
       "      <td>WHOSE SIDE ARE YOU ON? GANG WAR has thrown the...</td>\n",
       "      <td>Not given</td>\n",
       "      <td>Comic</td>\n",
       "      <td>32</td>\n",
       "      <td>4.99</td>\n",
       "    </tr>\n",
       "    <tr>\n",
       "      <th>25</th>\n",
       "      <td>Sensational She-Hulk (2023) #3</td>\n",
       "      <td>Sensational She-Hulk (2023 - 2024)</td>\n",
       "      <td>2023-12-27</td>\n",
       "      <td>Jen Bartel, Vc Joe Caramagna, Andres Genolet, ...</td>\n",
       "      <td>Nick Lowe</td>\n",
       "      <td>['Rainbow Rowell']</td>\n",
       "      <td>SHE-HULK &amp; HULK face off against one of She-Hu...</td>\n",
       "      <td>Hulk, She-Hulk (Jennifer Walters)</td>\n",
       "      <td>Comic</td>\n",
       "      <td>32</td>\n",
       "      <td>3.99</td>\n",
       "    </tr>\n",
       "    <tr>\n",
       "      <th>34</th>\n",
       "      <td>Ghost Rider (2022) #21</td>\n",
       "      <td>Ghost Rider (2022 - Present)</td>\n",
       "      <td>2023-12-27</td>\n",
       "      <td>Bjorn Barends, Vc Travis Lanham, Carlos Nieto,...</td>\n",
       "      <td>Darren Shan</td>\n",
       "      <td>['Benjamin Percy']</td>\n",
       "      <td>END OF THE ROAD! The Cult of Mephisto is posse...</td>\n",
       "      <td>Doctor Strange, Ghost Rider (Johnny Blaze)</td>\n",
       "      <td>Comic</td>\n",
       "      <td>32</td>\n",
       "      <td>4.99</td>\n",
       "    </tr>\n",
       "    <tr>\n",
       "      <th>20</th>\n",
       "      <td>Sensational She-Hulk (2023) #3 (Variant)</td>\n",
       "      <td>Sensational She-Hulk (2023 - 2024)</td>\n",
       "      <td>2023-12-27</td>\n",
       "      <td>Vc Joe Caramagna, DEE CUNNIFFE, Ariel Diaz, An...</td>\n",
       "      <td>Nick Lowe</td>\n",
       "      <td>['Rainbow Rowell']</td>\n",
       "      <td>SHE-HULK &amp; HULK face off against one of She-Hu...</td>\n",
       "      <td>Not given</td>\n",
       "      <td>Comic</td>\n",
       "      <td>32</td>\n",
       "      <td>3.99</td>\n",
       "    </tr>\n",
       "  </tbody>\n",
       "</table>\n",
       "</div>"
      ],
      "text/plain": [
       "                                                title  \\\n",
       "84        The Amazing Spider-Man (2022) #40 (Variant)   \n",
       "59  Deadly Hands of Kung Fu: Gang War (2023) #1 (V...   \n",
       "25                     Sensational She-Hulk (2023) #3   \n",
       "34                             Ghost Rider (2022) #21   \n",
       "20           Sensational She-Hulk (2023) #3 (Variant)   \n",
       "\n",
       "                                               series on_sale_date  \\\n",
       "84            The Amazing Spider-Man (2022 - Present)   2023-12-20   \n",
       "59  Deadly Hands of Kung Fu: Gang War (2023 - Pres...   2023-12-27   \n",
       "25                 Sensational She-Hulk (2023 - 2024)   2023-12-27   \n",
       "34                       Ghost Rider (2022 - Present)   2023-12-27   \n",
       "20                 Sensational She-Hulk (2023 - 2024)   2023-12-27   \n",
       "\n",
       "                                             creators creators_editor  \\\n",
       "84  Vc Joe Caramagna, Sean “Cheeks” Galloway, Scot...  Emily Newcomen   \n",
       "59  Vc Travis Lanham, Caio Majado, Greg Pak, Darre...     Darren Shan   \n",
       "25  Jen Bartel, Vc Joe Caramagna, Andres Genolet, ...       Nick Lowe   \n",
       "34  Bjorn Barends, Vc Travis Lanham, Carlos Nieto,...     Darren Shan   \n",
       "20  Vc Joe Caramagna, DEE CUNNIFFE, Ariel Diaz, An...       Nick Lowe   \n",
       "\n",
       "       creators_writer                                        description  \\\n",
       "84       ['Zeb Wells']  GANG WAR CONTINUES! Battle lines are drawn, wi...   \n",
       "59        ['Greg Pak']  WHOSE SIDE ARE YOU ON? GANG WAR has thrown the...   \n",
       "25  ['Rainbow Rowell']  SHE-HULK & HULK face off against one of She-Hu...   \n",
       "34  ['Benjamin Percy']  END OF THE ROAD! The Cult of Mephisto is posse...   \n",
       "20  ['Rainbow Rowell']  SHE-HULK & HULK face off against one of She-Hu...   \n",
       "\n",
       "                                    characters format  n_of_pages  price  \n",
       "84                                   Not given  Comic          32   4.99  \n",
       "59                                   Not given  Comic          32   4.99  \n",
       "25           Hulk, She-Hulk (Jennifer Walters)  Comic          32   3.99  \n",
       "34  Doctor Strange, Ghost Rider (Johnny Blaze)  Comic          32   4.99  \n",
       "20                                   Not given  Comic          32   3.99  "
      ]
     },
     "execution_count": 84,
     "metadata": {},
     "output_type": "execute_result"
    }
   ],
   "source": [
    "df.sample(5)"
   ]
  },
  {
   "cell_type": "markdown",
   "id": "fd0e560c",
   "metadata": {},
   "source": [
    "# Grouping and filtering"
   ]
  },
  {
   "cell_type": "markdown",
   "id": "d090d68e",
   "metadata": {},
   "source": [
    "### Obtaining Most Published Character"
   ]
  },
  {
   "cell_type": "markdown",
   "id": "67d530b6",
   "metadata": {},
   "source": [
    "Let's get **the most recurrent characters that appear in the publications** of our df. To do this we will create a function that iterates through all the rows looking for certain characters and updates a counter of their appearances.\n",
    "\n",
    "Note: we have considered that in this count of appearances we do not only count main characters. We also include groups of characters such as \"Avengers\" and \"X-men\" and from another editorial universe, such as \"Star Wars\"."
   ]
  },
  {
   "cell_type": "code",
   "execution_count": 14,
   "id": "11d4cd95",
   "metadata": {},
   "outputs": [],
   "source": [
    "most_published_character = {\"spider-man\":0,\n",
    "                          \"loki\":0,\n",
    "                           \"avengers\":0,\n",
    "                           \"x-men\":0,\n",
    "                           \"spider-woman\":0,\n",
    "                           \"hulk\":0,\n",
    "                           \"captain marvel\":0,\n",
    "                           \"she-hulk\":0,\n",
    "                           \"doctor strange\":0,\n",
    "                           \"captain america\":0,\n",
    "                           \"shang-chi\":0,\n",
    "                           \"black panther\":0,\n",
    "                           \"black widow\":0,\n",
    "                           \"star wars\":0,\n",
    "                           \"wolverine\":0,\n",
    "                           \"ms. marvel\":0,\n",
    "                           \"moon knight\":0,\n",
    "                            \"venom\":0,\n",
    "                            \"carnage\":0\n",
    "                          }"
   ]
  },
  {
   "cell_type": "code",
   "execution_count": 15,
   "id": "da26aa7c",
   "metadata": {},
   "outputs": [],
   "source": [
    "def character_finder(x):\n",
    "    \n",
    "    '''\n",
    "    his is the function we were talking about before.\n",
    "\n",
    "    Iterates over a previously given dictionary. For each key of that dictionary, it iterates again in the search of the word \n",
    "    match on each row of our df. When it finds a match, it adds 1 to the counter to the value of the key \n",
    "    (and exits the loop by a boolean condition thus avoiding that the counter does not add too much).\n",
    "    \n",
    "    '''\n",
    "    \n",
    "    \n",
    "    for ele in x:\n",
    "        \n",
    "        for index, row in df.iterrows():\n",
    "            \n",
    "            str_found=False\n",
    "            \n",
    "            for count in row:\n",
    "                if ele in str(count).lower():\n",
    "                    str_found=True\n",
    "                    break\n",
    "            if str_found:\n",
    "                most_published_character[ele]+=1\n",
    "    return most_published_character"
   ]
  },
  {
   "cell_type": "code",
   "execution_count": 16,
   "id": "bed9e6ea",
   "metadata": {},
   "outputs": [],
   "source": [
    "most_pub_char = character_finder(most_published_character.keys())"
   ]
  },
  {
   "cell_type": "code",
   "execution_count": 17,
   "id": "cb6f4023",
   "metadata": {},
   "outputs": [],
   "source": [
    "# From here and in subsequent lines of code. We convert the dictionary to df in order to sort it in descending order.\n",
    "\n",
    "df_most_published_character = pd.DataFrame(list(most_pub_char.items()), columns=[\"character\",\"appearances\"])\n",
    "df_most_published_character.set_index(\"character\", inplace=True)"
   ]
  },
  {
   "cell_type": "code",
   "execution_count": 18,
   "id": "6ae1c226",
   "metadata": {},
   "outputs": [],
   "source": [
    "df_most_published_character = df_most_published_character[\"appearances\"].sort_values(ascending=False)"
   ]
  },
  {
   "cell_type": "code",
   "execution_count": 19,
   "id": "598f9d9e",
   "metadata": {},
   "outputs": [],
   "source": [
    "df_most_published_character = df_most_published_character.reset_index()"
   ]
  },
  {
   "cell_type": "code",
   "execution_count": 20,
   "id": "c32571ce",
   "metadata": {},
   "outputs": [],
   "source": [
    "# Here, we obtain the definitive df concerning the most recurrent character\n",
    "\n",
    "df_most_published_character.set_index(\"character\", inplace=True)"
   ]
  },
  {
   "cell_type": "code",
   "execution_count": 21,
   "id": "3cad86b3",
   "metadata": {
    "scrolled": true
   },
   "outputs": [],
   "source": [
    "# We also have another df with the top 5\n",
    "\n",
    "df_top5_mpc = df_most_published_character.head(5)"
   ]
  },
  {
   "cell_type": "code",
   "execution_count": 22,
   "id": "2613542b",
   "metadata": {},
   "outputs": [
    {
     "data": {
      "text/html": [
       "<div>\n",
       "<style scoped>\n",
       "    .dataframe tbody tr th:only-of-type {\n",
       "        vertical-align: middle;\n",
       "    }\n",
       "\n",
       "    .dataframe tbody tr th {\n",
       "        vertical-align: top;\n",
       "    }\n",
       "\n",
       "    .dataframe thead th {\n",
       "        text-align: right;\n",
       "    }\n",
       "</style>\n",
       "<table border=\"1\" class=\"dataframe\">\n",
       "  <thead>\n",
       "    <tr style=\"text-align: right;\">\n",
       "      <th></th>\n",
       "      <th>appearances</th>\n",
       "    </tr>\n",
       "    <tr>\n",
       "      <th>character</th>\n",
       "      <th></th>\n",
       "    </tr>\n",
       "  </thead>\n",
       "  <tbody>\n",
       "    <tr>\n",
       "      <th>spider-man</th>\n",
       "      <td>25</td>\n",
       "    </tr>\n",
       "    <tr>\n",
       "      <th>star wars</th>\n",
       "      <td>12</td>\n",
       "    </tr>\n",
       "    <tr>\n",
       "      <th>x-men</th>\n",
       "      <td>9</td>\n",
       "    </tr>\n",
       "    <tr>\n",
       "      <th>wolverine</th>\n",
       "      <td>9</td>\n",
       "    </tr>\n",
       "    <tr>\n",
       "      <th>avengers</th>\n",
       "      <td>7</td>\n",
       "    </tr>\n",
       "  </tbody>\n",
       "</table>\n",
       "</div>"
      ],
      "text/plain": [
       "            appearances\n",
       "character              \n",
       "spider-man           25\n",
       "star wars            12\n",
       "x-men                 9\n",
       "wolverine             9\n",
       "avengers              7"
      ]
     },
     "execution_count": 22,
     "metadata": {},
     "output_type": "execute_result"
    }
   ],
   "source": [
    "df_top5_mpc"
   ]
  },
  {
   "cell_type": "markdown",
   "id": "11a9f97a",
   "metadata": {},
   "source": [
    "### Obtaining Series in Course"
   ]
  },
  {
   "cell_type": "markdown",
   "id": "6c043c78",
   "metadata": {},
   "source": [
    "Similar to what we did in the previous section, we will iterate over the series column **to count the publications belonging to active series or closed series**.\n",
    "\n",
    "Note: closed series will also include one-shot publications."
   ]
  },
  {
   "cell_type": "code",
   "execution_count": 23,
   "id": "e248b115",
   "metadata": {},
   "outputs": [],
   "source": [
    "series_counter = {\"series in course\": 0,\"completed series\":0}"
   ]
  },
  {
   "cell_type": "code",
   "execution_count": 24,
   "id": "3836f01e",
   "metadata": {},
   "outputs": [],
   "source": [
    "# Iterate to find the word \"present\" (indicating that the series is still active).\n",
    "\n",
    "for comic in df[\"series\"]:\n",
    "    if \"present\" in str(comic).lower():\n",
    "        series_counter[\"series in course\"]+=1\n",
    "    else:\n",
    "        series_counter[\"completed series\"]+=1"
   ]
  },
  {
   "cell_type": "code",
   "execution_count": 25,
   "id": "d8c6d1d4",
   "metadata": {},
   "outputs": [],
   "source": [
    "# From here, we convert the dictionary to df to display it \n",
    "\n",
    "df_series_counter = pd.DataFrame(list(series_counter.items()), columns=[\"type\",\"n_publications\"])"
   ]
  },
  {
   "cell_type": "code",
   "execution_count": 26,
   "id": "cb45eb37",
   "metadata": {},
   "outputs": [],
   "source": [
    "df_series_counter.set_index(\"type\", inplace=True)"
   ]
  },
  {
   "cell_type": "code",
   "execution_count": 27,
   "id": "4ac2a362",
   "metadata": {},
   "outputs": [],
   "source": [
    "df_series_counter = df_series_counter.reset_index()"
   ]
  },
  {
   "cell_type": "code",
   "execution_count": 28,
   "id": "ea46aed5",
   "metadata": {},
   "outputs": [],
   "source": [
    "df_series_counter.set_index(\"type\", inplace=True)"
   ]
  },
  {
   "cell_type": "code",
   "execution_count": 29,
   "id": "07400c65",
   "metadata": {},
   "outputs": [
    {
     "data": {
      "text/html": [
       "<div>\n",
       "<style scoped>\n",
       "    .dataframe tbody tr th:only-of-type {\n",
       "        vertical-align: middle;\n",
       "    }\n",
       "\n",
       "    .dataframe tbody tr th {\n",
       "        vertical-align: top;\n",
       "    }\n",
       "\n",
       "    .dataframe thead th {\n",
       "        text-align: right;\n",
       "    }\n",
       "</style>\n",
       "<table border=\"1\" class=\"dataframe\">\n",
       "  <thead>\n",
       "    <tr style=\"text-align: right;\">\n",
       "      <th></th>\n",
       "      <th>n_publications</th>\n",
       "    </tr>\n",
       "    <tr>\n",
       "      <th>type</th>\n",
       "      <th></th>\n",
       "    </tr>\n",
       "  </thead>\n",
       "  <tbody>\n",
       "    <tr>\n",
       "      <th>series in course</th>\n",
       "      <td>79</td>\n",
       "    </tr>\n",
       "    <tr>\n",
       "      <th>completed series</th>\n",
       "      <td>21</td>\n",
       "    </tr>\n",
       "  </tbody>\n",
       "</table>\n",
       "</div>"
      ],
      "text/plain": [
       "                  n_publications\n",
       "type                            \n",
       "series in course              79\n",
       "completed series              21"
      ]
     },
     "execution_count": 29,
     "metadata": {},
     "output_type": "execute_result"
    }
   ],
   "source": [
    "df_series_counter"
   ]
  },
  {
   "cell_type": "markdown",
   "id": "e2c94c4d",
   "metadata": {},
   "source": [
    "### Obtaining Ranking On Sale Date "
   ]
  },
  {
   "cell_type": "markdown",
   "id": "aa6bad09",
   "metadata": {},
   "source": [
    "Through a value counts we are going to get the number of publications per day of the sample we have. This will help us **to know which days were more important in launches**."
   ]
  },
  {
   "cell_type": "code",
   "execution_count": 30,
   "id": "4348c804",
   "metadata": {},
   "outputs": [],
   "source": [
    "# We use the dt.date function to make the count go well.\n",
    "\n",
    "df_on_sale_date = df[\"on_sale_date\"].dt.date.value_counts()"
   ]
  },
  {
   "cell_type": "code",
   "execution_count": 31,
   "id": "f4d0eb1b",
   "metadata": {},
   "outputs": [],
   "source": [
    "df_on_sale_date =  df_on_sale_date.reset_index().rename(columns={\"count\":\"n_publications\"})"
   ]
  },
  {
   "cell_type": "code",
   "execution_count": 32,
   "id": "c2bfc42d",
   "metadata": {},
   "outputs": [],
   "source": [
    "# We convert the dictionary to df for displaying it\n",
    "\n",
    "df_on_sale_date.set_index(\"on_sale_date\", inplace=True)"
   ]
  },
  {
   "cell_type": "code",
   "execution_count": 33,
   "id": "1bf8fdbd",
   "metadata": {},
   "outputs": [],
   "source": [
    "# We cut in another df the top 5 for more accuracy\n",
    "\n",
    "df_ranking_osd = df_on_sale_date.head(5)"
   ]
  },
  {
   "cell_type": "code",
   "execution_count": 34,
   "id": "3e753a77",
   "metadata": {},
   "outputs": [
    {
     "data": {
      "text/html": [
       "<div>\n",
       "<style scoped>\n",
       "    .dataframe tbody tr th:only-of-type {\n",
       "        vertical-align: middle;\n",
       "    }\n",
       "\n",
       "    .dataframe tbody tr th {\n",
       "        vertical-align: top;\n",
       "    }\n",
       "\n",
       "    .dataframe thead th {\n",
       "        text-align: right;\n",
       "    }\n",
       "</style>\n",
       "<table border=\"1\" class=\"dataframe\">\n",
       "  <thead>\n",
       "    <tr style=\"text-align: right;\">\n",
       "      <th></th>\n",
       "      <th>n_publications</th>\n",
       "    </tr>\n",
       "    <tr>\n",
       "      <th>on_sale_date</th>\n",
       "      <th></th>\n",
       "    </tr>\n",
       "  </thead>\n",
       "  <tbody>\n",
       "    <tr>\n",
       "      <th>2023-12-27</th>\n",
       "      <td>71</td>\n",
       "    </tr>\n",
       "    <tr>\n",
       "      <th>2023-12-20</th>\n",
       "      <td>21</td>\n",
       "    </tr>\n",
       "    <tr>\n",
       "      <th>2023-12-29</th>\n",
       "      <td>2</td>\n",
       "    </tr>\n",
       "    <tr>\n",
       "      <th>2023-12-22</th>\n",
       "      <td>2</td>\n",
       "    </tr>\n",
       "    <tr>\n",
       "      <th>2023-12-28</th>\n",
       "      <td>1</td>\n",
       "    </tr>\n",
       "  </tbody>\n",
       "</table>\n",
       "</div>"
      ],
      "text/plain": [
       "              n_publications\n",
       "on_sale_date                \n",
       "2023-12-27                71\n",
       "2023-12-20                21\n",
       "2023-12-29                 2\n",
       "2023-12-22                 2\n",
       "2023-12-28                 1"
      ]
     },
     "execution_count": 34,
     "metadata": {},
     "output_type": "execute_result"
    }
   ],
   "source": [
    "df_ranking_osd"
   ]
  },
  {
   "cell_type": "markdown",
   "id": "2745108a",
   "metadata": {},
   "source": [
    "### Obtaining Ranking Editors"
   ]
  },
  {
   "cell_type": "markdown",
   "id": "d9fdc5c2",
   "metadata": {},
   "source": [
    "Similar to how we did with the on sale date ranking, we will use the value counts form **to know which publishers have appeared the most times**."
   ]
  },
  {
   "cell_type": "code",
   "execution_count": 35,
   "id": "923307fb",
   "metadata": {},
   "outputs": [],
   "source": [
    "ranking_editors = df[\"creators_editor\"].value_counts()"
   ]
  },
  {
   "cell_type": "code",
   "execution_count": 36,
   "id": "00b3307b",
   "metadata": {
    "scrolled": true
   },
   "outputs": [],
   "source": [
    "df_ranking_editors = pd.DataFrame(ranking_editors)"
   ]
  },
  {
   "cell_type": "code",
   "execution_count": 37,
   "id": "6b7f5ec8",
   "metadata": {},
   "outputs": [],
   "source": [
    "df_ranking_editors.rename(columns={\"count\":\"works\"}, inplace=True)\n",
    "df_ranking_editors.index.name=\"editor\""
   ]
  },
  {
   "cell_type": "code",
   "execution_count": 38,
   "id": "48dbf7c8",
   "metadata": {},
   "outputs": [],
   "source": [
    "df_ranking_editors = df_ranking_editors.reset_index().head(5)"
   ]
  },
  {
   "cell_type": "code",
   "execution_count": 39,
   "id": "61e0cc39",
   "metadata": {},
   "outputs": [],
   "source": [
    "# We convert the dictionary to df for displaying it\n",
    "\n",
    "df_ranking_editors.set_index(\"editor\", inplace=True)"
   ]
  },
  {
   "cell_type": "code",
   "execution_count": 40,
   "id": "a94c34b2",
   "metadata": {},
   "outputs": [],
   "source": [
    "# As we did it before, we cut a new top 5 in a new df\n",
    "\n",
    "df_top5_re = df_ranking_editors.head(5)"
   ]
  },
  {
   "cell_type": "code",
   "execution_count": 41,
   "id": "52f22713",
   "metadata": {},
   "outputs": [
    {
     "data": {
      "text/html": [
       "<div>\n",
       "<style scoped>\n",
       "    .dataframe tbody tr th:only-of-type {\n",
       "        vertical-align: middle;\n",
       "    }\n",
       "\n",
       "    .dataframe tbody tr th {\n",
       "        vertical-align: top;\n",
       "    }\n",
       "\n",
       "    .dataframe thead th {\n",
       "        text-align: right;\n",
       "    }\n",
       "</style>\n",
       "<table border=\"1\" class=\"dataframe\">\n",
       "  <thead>\n",
       "    <tr style=\"text-align: right;\">\n",
       "      <th></th>\n",
       "      <th>works</th>\n",
       "    </tr>\n",
       "    <tr>\n",
       "      <th>editor</th>\n",
       "      <th></th>\n",
       "    </tr>\n",
       "  </thead>\n",
       "  <tbody>\n",
       "    <tr>\n",
       "      <th>Emily Newcomen</th>\n",
       "      <td>25</td>\n",
       "    </tr>\n",
       "    <tr>\n",
       "      <th>Mark Paniccia</th>\n",
       "      <td>13</td>\n",
       "    </tr>\n",
       "    <tr>\n",
       "      <th>Sarah Brunstad</th>\n",
       "      <td>11</td>\n",
       "    </tr>\n",
       "    <tr>\n",
       "      <th>Mark Basso</th>\n",
       "      <td>9</td>\n",
       "    </tr>\n",
       "    <tr>\n",
       "      <th>Tom Brevoort</th>\n",
       "      <td>8</td>\n",
       "    </tr>\n",
       "  </tbody>\n",
       "</table>\n",
       "</div>"
      ],
      "text/plain": [
       "                works\n",
       "editor               \n",
       "Emily Newcomen     25\n",
       "Mark Paniccia      13\n",
       "Sarah Brunstad     11\n",
       "Mark Basso          9\n",
       "Tom Brevoort        8"
      ]
     },
     "execution_count": 41,
     "metadata": {},
     "output_type": "execute_result"
    }
   ],
   "source": [
    "df_top5_re"
   ]
  },
  {
   "cell_type": "markdown",
   "id": "b1f3fd05",
   "metadata": {},
   "source": [
    "### Obtaining Ranking Writers"
   ]
  },
  {
   "cell_type": "markdown",
   "id": "ef2d9755",
   "metadata": {},
   "source": [
    "The ranking of writers differs from the ranking of publishers. The difference is that in the editors ranking we had a column of single values and in writers, **each item contains a list of names**."
   ]
  },
  {
   "cell_type": "code",
   "execution_count": 42,
   "id": "ac208beb",
   "metadata": {},
   "outputs": [],
   "source": [
    "'''\n",
    "Honestly, I don't know how eval() works at all but it has allowed us to add all the elements of the lists read \n",
    "in each iteration to the new list containing all the writers\n",
    "'''\n",
    "\n",
    "writers_bulk = []\n",
    "\n",
    "for i in df.creators_writer:\n",
    "    writer_list = eval(i)\n",
    "    writers_bulk.extend(writer_list)"
   ]
  },
  {
   "cell_type": "code",
   "execution_count": 43,
   "id": "49de316d",
   "metadata": {},
   "outputs": [],
   "source": [
    "from collections import Counter"
   ]
  },
  {
   "cell_type": "code",
   "execution_count": 44,
   "id": "76105214",
   "metadata": {},
   "outputs": [],
   "source": [
    "#We use Counter to obtain a dictionary from a writer's value count \n",
    "\n",
    "writers_counter = Counter(writers_bulk)"
   ]
  },
  {
   "cell_type": "code",
   "execution_count": 45,
   "id": "8b21e9f3",
   "metadata": {},
   "outputs": [],
   "source": [
    "#And so on, with the data collected, we proceed to do a new df for a ranking writers\n",
    "\n",
    "df_writers_counter = pd.DataFrame(list(writers_counter.items()), columns=[\"writer\",\"works\"])"
   ]
  },
  {
   "cell_type": "code",
   "execution_count": 46,
   "id": "e9dd3de7",
   "metadata": {},
   "outputs": [],
   "source": [
    "df_writers_counter.set_index(\"writer\", inplace=True)"
   ]
  },
  {
   "cell_type": "code",
   "execution_count": 47,
   "id": "d4acd5d7",
   "metadata": {},
   "outputs": [],
   "source": [
    "df_writers_counter = df_writers_counter[\"works\"].sort_values(ascending=False)"
   ]
  },
  {
   "cell_type": "code",
   "execution_count": 48,
   "id": "b33f37b8",
   "metadata": {},
   "outputs": [],
   "source": [
    "df_writers_counter = df_writers_counter.reset_index()"
   ]
  },
  {
   "cell_type": "code",
   "execution_count": 49,
   "id": "3501e8bf",
   "metadata": {},
   "outputs": [],
   "source": [
    "df_writers_counter.set_index(\"writer\", inplace=True)"
   ]
  },
  {
   "cell_type": "code",
   "execution_count": 50,
   "id": "53fb6adc",
   "metadata": {},
   "outputs": [],
   "source": [
    "# Also, we do a cut of 5 for a top df\n",
    "\n",
    "df_top5_rw = df_writers_counter.head(5)"
   ]
  },
  {
   "cell_type": "code",
   "execution_count": 51,
   "id": "0586d290",
   "metadata": {},
   "outputs": [
    {
     "data": {
      "text/html": [
       "<div>\n",
       "<style scoped>\n",
       "    .dataframe tbody tr th:only-of-type {\n",
       "        vertical-align: middle;\n",
       "    }\n",
       "\n",
       "    .dataframe tbody tr th {\n",
       "        vertical-align: top;\n",
       "    }\n",
       "\n",
       "    .dataframe thead th {\n",
       "        text-align: right;\n",
       "    }\n",
       "</style>\n",
       "<table border=\"1\" class=\"dataframe\">\n",
       "  <thead>\n",
       "    <tr style=\"text-align: right;\">\n",
       "      <th></th>\n",
       "      <th>works</th>\n",
       "    </tr>\n",
       "    <tr>\n",
       "      <th>writer</th>\n",
       "      <th></th>\n",
       "    </tr>\n",
       "  </thead>\n",
       "  <tbody>\n",
       "    <tr>\n",
       "      <th>Benjamin Percy</th>\n",
       "      <td>13</td>\n",
       "    </tr>\n",
       "    <tr>\n",
       "      <th>Tom Defalco</th>\n",
       "      <td>9</td>\n",
       "    </tr>\n",
       "    <tr>\n",
       "      <th>Alyssa Wong</th>\n",
       "      <td>7</td>\n",
       "    </tr>\n",
       "    <tr>\n",
       "      <th>Steve Foxe</th>\n",
       "      <td>6</td>\n",
       "    </tr>\n",
       "    <tr>\n",
       "      <th>Charles Soule</th>\n",
       "      <td>6</td>\n",
       "    </tr>\n",
       "  </tbody>\n",
       "</table>\n",
       "</div>"
      ],
      "text/plain": [
       "                works\n",
       "writer               \n",
       "Benjamin Percy     13\n",
       "Tom Defalco         9\n",
       "Alyssa Wong         7\n",
       "Steve Foxe          6\n",
       "Charles Soule       6"
      ]
     },
     "execution_count": 51,
     "metadata": {},
     "output_type": "execute_result"
    }
   ],
   "source": [
    "df_top5_rw"
   ]
  },
  {
   "cell_type": "markdown",
   "id": "964cb2d5",
   "metadata": {},
   "source": [
    "### Obtaining Most Published Format"
   ]
  },
  {
   "cell_type": "markdown",
   "id": "672c2a47",
   "metadata": {},
   "source": [
    "From the data we have on the format of each of the publications, we obtain the **number of publications by format of publication**."
   ]
  },
  {
   "cell_type": "code",
   "execution_count": 52,
   "id": "fe7cfb16",
   "metadata": {},
   "outputs": [],
   "source": [
    "df_format = df[\"format\"].value_counts()"
   ]
  },
  {
   "cell_type": "code",
   "execution_count": 53,
   "id": "b19cb347",
   "metadata": {},
   "outputs": [],
   "source": [
    "df_format = pd.DataFrame(df_format)"
   ]
  },
  {
   "cell_type": "code",
   "execution_count": 54,
   "id": "8ea17c43",
   "metadata": {},
   "outputs": [],
   "source": [
    "df_format.rename(columns={\"count\":\"n_publications\"}, inplace=True)"
   ]
  },
  {
   "cell_type": "code",
   "execution_count": 55,
   "id": "217ef555",
   "metadata": {},
   "outputs": [
    {
     "data": {
      "text/html": [
       "<div>\n",
       "<style scoped>\n",
       "    .dataframe tbody tr th:only-of-type {\n",
       "        vertical-align: middle;\n",
       "    }\n",
       "\n",
       "    .dataframe tbody tr th {\n",
       "        vertical-align: top;\n",
       "    }\n",
       "\n",
       "    .dataframe thead th {\n",
       "        text-align: right;\n",
       "    }\n",
       "</style>\n",
       "<table border=\"1\" class=\"dataframe\">\n",
       "  <thead>\n",
       "    <tr style=\"text-align: right;\">\n",
       "      <th></th>\n",
       "      <th>n_publications</th>\n",
       "    </tr>\n",
       "    <tr>\n",
       "      <th>format</th>\n",
       "      <th></th>\n",
       "    </tr>\n",
       "  </thead>\n",
       "  <tbody>\n",
       "    <tr>\n",
       "      <th>Comic</th>\n",
       "      <td>83</td>\n",
       "    </tr>\n",
       "    <tr>\n",
       "      <th>Digital Vertical Comic</th>\n",
       "      <td>10</td>\n",
       "    </tr>\n",
       "    <tr>\n",
       "      <th>Trade Paperback</th>\n",
       "      <td>4</td>\n",
       "    </tr>\n",
       "    <tr>\n",
       "      <th>Hardcover</th>\n",
       "      <td>3</td>\n",
       "    </tr>\n",
       "  </tbody>\n",
       "</table>\n",
       "</div>"
      ],
      "text/plain": [
       "                        n_publications\n",
       "format                                \n",
       "Comic                               83\n",
       "Digital Vertical Comic              10\n",
       "Trade Paperback                      4\n",
       "Hardcover                            3"
      ]
     },
     "execution_count": 55,
     "metadata": {},
     "output_type": "execute_result"
    }
   ],
   "source": [
    "df_format"
   ]
  },
  {
   "cell_type": "markdown",
   "id": "1bf027f6",
   "metadata": {},
   "source": [
    "### Obtaining Format-Pages statistics"
   ]
  },
  {
   "cell_type": "markdown",
   "id": "bf2d7712",
   "metadata": {},
   "source": [
    "The number of pages per publication is **one of the few numerical columns we have**. That is why **grouping it with the publication format** we will find interesting statistics thanks to some aggregations."
   ]
  },
  {
   "cell_type": "code",
   "execution_count": 56,
   "id": "8d782a31",
   "metadata": {},
   "outputs": [],
   "source": [
    "#We group and operate to obtain results that we will interpret later. \n",
    "\n",
    "df_pages_format = df.groupby(\"format\")[\"n_of_pages\"].agg([\"count\",\"sum\",\"mean\",\"max\",\"min\"]).rename(columns={\"count\":\"n_publications\",\n",
    "                                                                                                             \"sum\":\"total_pages\",\n",
    "                                                                                                             \"mean\":\"average_n_pages\",\n",
    "                                                                                                             \"max\":\"format_max_pages\",\n",
    "                                                                                                             \"min\":\"format_min_pages\"\n",
    "                                                                                                            })"
   ]
  },
  {
   "cell_type": "code",
   "execution_count": 57,
   "id": "d21a5734",
   "metadata": {},
   "outputs": [],
   "source": [
    "df_pages_format = df_pages_format.round(2)"
   ]
  },
  {
   "cell_type": "code",
   "execution_count": 58,
   "id": "27d7c61c",
   "metadata": {},
   "outputs": [],
   "source": [
    "df_pages_format = df_pages_format.sort_values(by=\"n_publications\", ascending=False)"
   ]
  },
  {
   "cell_type": "code",
   "execution_count": 59,
   "id": "19b9f976",
   "metadata": {},
   "outputs": [
    {
     "data": {
      "text/html": [
       "<div>\n",
       "<style scoped>\n",
       "    .dataframe tbody tr th:only-of-type {\n",
       "        vertical-align: middle;\n",
       "    }\n",
       "\n",
       "    .dataframe tbody tr th {\n",
       "        vertical-align: top;\n",
       "    }\n",
       "\n",
       "    .dataframe thead th {\n",
       "        text-align: right;\n",
       "    }\n",
       "</style>\n",
       "<table border=\"1\" class=\"dataframe\">\n",
       "  <thead>\n",
       "    <tr style=\"text-align: right;\">\n",
       "      <th></th>\n",
       "      <th>n_publications</th>\n",
       "      <th>total_pages</th>\n",
       "      <th>average_n_pages</th>\n",
       "      <th>format_max_pages</th>\n",
       "      <th>format_min_pages</th>\n",
       "    </tr>\n",
       "    <tr>\n",
       "      <th>format</th>\n",
       "      <th></th>\n",
       "      <th></th>\n",
       "      <th></th>\n",
       "      <th></th>\n",
       "      <th></th>\n",
       "    </tr>\n",
       "  </thead>\n",
       "  <tbody>\n",
       "    <tr>\n",
       "      <th>Comic</th>\n",
       "      <td>83</td>\n",
       "      <td>2728</td>\n",
       "      <td>32.87</td>\n",
       "      <td>56</td>\n",
       "      <td>32</td>\n",
       "    </tr>\n",
       "    <tr>\n",
       "      <th>Digital Vertical Comic</th>\n",
       "      <td>10</td>\n",
       "      <td>48</td>\n",
       "      <td>4.80</td>\n",
       "      <td>6</td>\n",
       "      <td>3</td>\n",
       "    </tr>\n",
       "    <tr>\n",
       "      <th>Trade Paperback</th>\n",
       "      <td>4</td>\n",
       "      <td>1496</td>\n",
       "      <td>374.00</td>\n",
       "      <td>488</td>\n",
       "      <td>120</td>\n",
       "    </tr>\n",
       "    <tr>\n",
       "      <th>Hardcover</th>\n",
       "      <td>3</td>\n",
       "      <td>2744</td>\n",
       "      <td>914.67</td>\n",
       "      <td>1304</td>\n",
       "      <td>304</td>\n",
       "    </tr>\n",
       "  </tbody>\n",
       "</table>\n",
       "</div>"
      ],
      "text/plain": [
       "                        n_publications  total_pages  average_n_pages  \\\n",
       "format                                                                 \n",
       "Comic                               83         2728            32.87   \n",
       "Digital Vertical Comic              10           48             4.80   \n",
       "Trade Paperback                      4         1496           374.00   \n",
       "Hardcover                            3         2744           914.67   \n",
       "\n",
       "                        format_max_pages  format_min_pages  \n",
       "format                                                      \n",
       "Comic                                 56                32  \n",
       "Digital Vertical Comic                 6                 3  \n",
       "Trade Paperback                      488               120  \n",
       "Hardcover                           1304               304  "
      ]
     },
     "execution_count": 59,
     "metadata": {},
     "output_type": "execute_result"
    }
   ],
   "source": [
    "# our new df allows us to see the performance of the formats in relation to their number of pages \n",
    "\n",
    "df_pages_format"
   ]
  },
  {
   "cell_type": "code",
   "execution_count": 60,
   "id": "1351ea1a",
   "metadata": {},
   "outputs": [],
   "source": [
    "df_pages_format_desc = df_pages_format.describe().round(2).rename(index={\"mean\":\"average\",\n",
    "                                                                         \"min\":\"minimal_value\",\n",
    "                                                                         \"max\":\"maximun_value\",\n",
    "                                                                         \"std\":\"std_deviation\"\n",
    "                                                                        })"
   ]
  },
  {
   "cell_type": "code",
   "execution_count": 61,
   "id": "8b5eb696",
   "metadata": {},
   "outputs": [],
   "source": [
    "df_pages_format_desc = df_pages_format_desc.drop([\"count\",\"25%\",\"50%\",\"75%\"], axis=0)"
   ]
  },
  {
   "cell_type": "code",
   "execution_count": 62,
   "id": "698ca95d",
   "metadata": {},
   "outputs": [
    {
     "data": {
      "text/html": [
       "<div>\n",
       "<style scoped>\n",
       "    .dataframe tbody tr th:only-of-type {\n",
       "        vertical-align: middle;\n",
       "    }\n",
       "\n",
       "    .dataframe tbody tr th {\n",
       "        vertical-align: top;\n",
       "    }\n",
       "\n",
       "    .dataframe thead th {\n",
       "        text-align: right;\n",
       "    }\n",
       "</style>\n",
       "<table border=\"1\" class=\"dataframe\">\n",
       "  <thead>\n",
       "    <tr style=\"text-align: right;\">\n",
       "      <th></th>\n",
       "      <th>n_publications</th>\n",
       "      <th>total_pages</th>\n",
       "      <th>average_n_pages</th>\n",
       "      <th>format_max_pages</th>\n",
       "      <th>format_min_pages</th>\n",
       "    </tr>\n",
       "  </thead>\n",
       "  <tbody>\n",
       "    <tr>\n",
       "      <th>average</th>\n",
       "      <td>25.00</td>\n",
       "      <td>1754.00</td>\n",
       "      <td>331.58</td>\n",
       "      <td>463.50</td>\n",
       "      <td>114.75</td>\n",
       "    </tr>\n",
       "    <tr>\n",
       "      <th>std_deviation</th>\n",
       "      <td>38.79</td>\n",
       "      <td>1278.77</td>\n",
       "      <td>423.40</td>\n",
       "      <td>600.67</td>\n",
       "      <td>135.62</td>\n",
       "    </tr>\n",
       "    <tr>\n",
       "      <th>minimal_value</th>\n",
       "      <td>3.00</td>\n",
       "      <td>48.00</td>\n",
       "      <td>4.80</td>\n",
       "      <td>6.00</td>\n",
       "      <td>3.00</td>\n",
       "    </tr>\n",
       "    <tr>\n",
       "      <th>maximun_value</th>\n",
       "      <td>83.00</td>\n",
       "      <td>2744.00</td>\n",
       "      <td>914.67</td>\n",
       "      <td>1304.00</td>\n",
       "      <td>304.00</td>\n",
       "    </tr>\n",
       "  </tbody>\n",
       "</table>\n",
       "</div>"
      ],
      "text/plain": [
       "               n_publications  total_pages  average_n_pages  format_max_pages  \\\n",
       "average                 25.00      1754.00           331.58            463.50   \n",
       "std_deviation           38.79      1278.77           423.40            600.67   \n",
       "minimal_value            3.00        48.00             4.80              6.00   \n",
       "maximun_value           83.00      2744.00           914.67           1304.00   \n",
       "\n",
       "               format_min_pages  \n",
       "average                  114.75  \n",
       "std_deviation            135.62  \n",
       "minimal_value              3.00  \n",
       "maximun_value            304.00  "
      ]
     },
     "execution_count": 62,
     "metadata": {},
     "output_type": "execute_result"
    }
   ],
   "source": [
    "# we describe the previous df in order to have a more global vision\n",
    "\n",
    "df_pages_format_desc"
   ]
  },
  {
   "cell_type": "markdown",
   "id": "0ed453f8",
   "metadata": {},
   "source": [
    "### Obtaining Format-Prices statistics"
   ]
  },
  {
   "cell_type": "markdown",
   "id": "7205ad8e",
   "metadata": {},
   "source": [
    "This grouping and aggregation is **identical to the one we did in the Format-Pages relationship**. The statistics we obtain will give us an insight into the performance of each format for its price."
   ]
  },
  {
   "cell_type": "code",
   "execution_count": 63,
   "id": "bb67757e",
   "metadata": {},
   "outputs": [],
   "source": [
    "df_prices_format = df.groupby(\"format\")[\"price\"].agg([\"count\",\"sum\",\"mean\",\"max\",\"min\"]).rename(columns={\"count\":\"n_publications\",\n",
    "                                                                                                         \"sum\":\"total_prices\",\n",
    "                                                                                                         \"mean\":\"average_price\",\n",
    "                                                                                                         \"max\":\"format_max_price\",\n",
    "                                                                                                         \"min\":\"format_min_price\"\n",
    "                                                                                                        })"
   ]
  },
  {
   "cell_type": "code",
   "execution_count": 64,
   "id": "1e6dd861",
   "metadata": {},
   "outputs": [],
   "source": [
    "df_prices_format = df_prices_format.round(2)"
   ]
  },
  {
   "cell_type": "code",
   "execution_count": 65,
   "id": "7719ec85",
   "metadata": {},
   "outputs": [],
   "source": [
    "df_prices_format = df_prices_format.sort_values(by=\"n_publications\", ascending=False)"
   ]
  },
  {
   "cell_type": "code",
   "execution_count": 66,
   "id": "2f0b0a28",
   "metadata": {},
   "outputs": [
    {
     "data": {
      "text/html": [
       "<div>\n",
       "<style scoped>\n",
       "    .dataframe tbody tr th:only-of-type {\n",
       "        vertical-align: middle;\n",
       "    }\n",
       "\n",
       "    .dataframe tbody tr th {\n",
       "        vertical-align: top;\n",
       "    }\n",
       "\n",
       "    .dataframe thead th {\n",
       "        text-align: right;\n",
       "    }\n",
       "</style>\n",
       "<table border=\"1\" class=\"dataframe\">\n",
       "  <thead>\n",
       "    <tr style=\"text-align: right;\">\n",
       "      <th></th>\n",
       "      <th>n_publications</th>\n",
       "      <th>total_prices</th>\n",
       "      <th>average_price</th>\n",
       "      <th>format_max_price</th>\n",
       "      <th>format_min_price</th>\n",
       "    </tr>\n",
       "    <tr>\n",
       "      <th>format</th>\n",
       "      <th></th>\n",
       "      <th></th>\n",
       "      <th></th>\n",
       "      <th></th>\n",
       "      <th></th>\n",
       "    </tr>\n",
       "  </thead>\n",
       "  <tbody>\n",
       "    <tr>\n",
       "      <th>Comic</th>\n",
       "      <td>83</td>\n",
       "      <td>381.17</td>\n",
       "      <td>4.59</td>\n",
       "      <td>6.99</td>\n",
       "      <td>3.99</td>\n",
       "    </tr>\n",
       "    <tr>\n",
       "      <th>Digital Vertical Comic</th>\n",
       "      <td>10</td>\n",
       "      <td>0.00</td>\n",
       "      <td>0.00</td>\n",
       "      <td>0.00</td>\n",
       "      <td>0.00</td>\n",
       "    </tr>\n",
       "    <tr>\n",
       "      <th>Trade Paperback</th>\n",
       "      <td>4</td>\n",
       "      <td>152.96</td>\n",
       "      <td>38.24</td>\n",
       "      <td>44.99</td>\n",
       "      <td>17.99</td>\n",
       "    </tr>\n",
       "    <tr>\n",
       "      <th>Hardcover</th>\n",
       "      <td>3</td>\n",
       "      <td>350.00</td>\n",
       "      <td>116.67</td>\n",
       "      <td>150.00</td>\n",
       "      <td>75.00</td>\n",
       "    </tr>\n",
       "  </tbody>\n",
       "</table>\n",
       "</div>"
      ],
      "text/plain": [
       "                        n_publications  total_prices  average_price  \\\n",
       "format                                                                \n",
       "Comic                               83        381.17           4.59   \n",
       "Digital Vertical Comic              10          0.00           0.00   \n",
       "Trade Paperback                      4        152.96          38.24   \n",
       "Hardcover                            3        350.00         116.67   \n",
       "\n",
       "                        format_max_price  format_min_price  \n",
       "format                                                      \n",
       "Comic                               6.99              3.99  \n",
       "Digital Vertical Comic              0.00              0.00  \n",
       "Trade Paperback                    44.99             17.99  \n",
       "Hardcover                         150.00             75.00  "
      ]
     },
     "execution_count": 66,
     "metadata": {},
     "output_type": "execute_result"
    }
   ],
   "source": [
    "# As we did in the previous section, this df allows us to see the format performance with respect to price.\n",
    "\n",
    "df_prices_format"
   ]
  },
  {
   "cell_type": "code",
   "execution_count": 67,
   "id": "90a69444",
   "metadata": {},
   "outputs": [],
   "source": [
    "df_prices_format_desc = df_prices_format.describe().round(2).rename(index={\"mean\":\"average\",\n",
    "                                                                           \"min\":\"minimal_value\",\n",
    "                                                                           \"max\":\"maximun_value\",\n",
    "                                                                           \"std\":\"std_deviation\"})"
   ]
  },
  {
   "cell_type": "code",
   "execution_count": 68,
   "id": "cf66aa41",
   "metadata": {},
   "outputs": [],
   "source": [
    "df_prices_format_desc = df_prices_format_desc.drop([\"count\",\"25%\",\"50%\",\"75%\"], axis=0)"
   ]
  },
  {
   "cell_type": "code",
   "execution_count": 69,
   "id": "8f305b1d",
   "metadata": {},
   "outputs": [
    {
     "data": {
      "text/html": [
       "<div>\n",
       "<style scoped>\n",
       "    .dataframe tbody tr th:only-of-type {\n",
       "        vertical-align: middle;\n",
       "    }\n",
       "\n",
       "    .dataframe tbody tr th {\n",
       "        vertical-align: top;\n",
       "    }\n",
       "\n",
       "    .dataframe thead th {\n",
       "        text-align: right;\n",
       "    }\n",
       "</style>\n",
       "<table border=\"1\" class=\"dataframe\">\n",
       "  <thead>\n",
       "    <tr style=\"text-align: right;\">\n",
       "      <th></th>\n",
       "      <th>n_publications</th>\n",
       "      <th>total_prices</th>\n",
       "      <th>average_price</th>\n",
       "      <th>format_max_price</th>\n",
       "      <th>format_min_price</th>\n",
       "    </tr>\n",
       "  </thead>\n",
       "  <tbody>\n",
       "    <tr>\n",
       "      <th>average</th>\n",
       "      <td>25.00</td>\n",
       "      <td>221.03</td>\n",
       "      <td>39.88</td>\n",
       "      <td>50.50</td>\n",
       "      <td>24.24</td>\n",
       "    </tr>\n",
       "    <tr>\n",
       "      <th>std_deviation</th>\n",
       "      <td>38.79</td>\n",
       "      <td>178.67</td>\n",
       "      <td>53.96</td>\n",
       "      <td>69.22</td>\n",
       "      <td>34.70</td>\n",
       "    </tr>\n",
       "    <tr>\n",
       "      <th>minimal_value</th>\n",
       "      <td>3.00</td>\n",
       "      <td>0.00</td>\n",
       "      <td>0.00</td>\n",
       "      <td>0.00</td>\n",
       "      <td>0.00</td>\n",
       "    </tr>\n",
       "    <tr>\n",
       "      <th>maximun_value</th>\n",
       "      <td>83.00</td>\n",
       "      <td>381.17</td>\n",
       "      <td>116.67</td>\n",
       "      <td>150.00</td>\n",
       "      <td>75.00</td>\n",
       "    </tr>\n",
       "  </tbody>\n",
       "</table>\n",
       "</div>"
      ],
      "text/plain": [
       "               n_publications  total_prices  average_price  format_max_price  \\\n",
       "average                 25.00        221.03          39.88             50.50   \n",
       "std_deviation           38.79        178.67          53.96             69.22   \n",
       "minimal_value            3.00          0.00           0.00              0.00   \n",
       "maximun_value           83.00        381.17         116.67            150.00   \n",
       "\n",
       "               format_min_price  \n",
       "average                   24.24  \n",
       "std_deviation             34.70  \n",
       "minimal_value              0.00  \n",
       "maximun_value             75.00  "
      ]
     },
     "execution_count": 69,
     "metadata": {},
     "output_type": "execute_result"
    }
   ],
   "source": [
    "# another new df to view the above statistics more globally\n",
    "\n",
    "df_prices_format_desc"
   ]
  },
  {
   "cell_type": "markdown",
   "id": "67425f0a",
   "metadata": {},
   "source": [
    "### Obtaining Max Page and Min Page Publication"
   ]
  },
  {
   "cell_type": "markdown",
   "id": "1d89bcba",
   "metadata": {},
   "source": [
    "Thanks to the data obtained in the previous groupings, we know **the exact value of the maximum and minimum number of pages** to filter and find the **exact comic they refer to**."
   ]
  },
  {
   "cell_type": "code",
   "execution_count": 70,
   "id": "e2969af7",
   "metadata": {},
   "outputs": [
    {
     "data": {
      "text/html": [
       "<div>\n",
       "<style scoped>\n",
       "    .dataframe tbody tr th:only-of-type {\n",
       "        vertical-align: middle;\n",
       "    }\n",
       "\n",
       "    .dataframe tbody tr th {\n",
       "        vertical-align: top;\n",
       "    }\n",
       "\n",
       "    .dataframe thead th {\n",
       "        text-align: right;\n",
       "    }\n",
       "</style>\n",
       "<table border=\"1\" class=\"dataframe\">\n",
       "  <thead>\n",
       "    <tr style=\"text-align: right;\">\n",
       "      <th></th>\n",
       "      <th>title</th>\n",
       "      <th>series</th>\n",
       "      <th>on_sale_date</th>\n",
       "      <th>creators</th>\n",
       "      <th>creators_editor</th>\n",
       "      <th>creators_writer</th>\n",
       "      <th>description</th>\n",
       "      <th>characters</th>\n",
       "      <th>format</th>\n",
       "      <th>n_of_pages</th>\n",
       "      <th>price</th>\n",
       "    </tr>\n",
       "  </thead>\n",
       "  <tbody>\n",
       "    <tr>\n",
       "      <th>46</th>\n",
       "      <td>SPIDER-MAN: BEN REILLY OMNIBUS VOL. 1 HC BUTLE...</td>\n",
       "      <td>SPIDER-MAN: BEN REILLY OMNIBUS VOL. 1 HC BUTLE...</td>\n",
       "      <td>2023-12-27</td>\n",
       "      <td>Greg Adams, Jeff Albrecht, Bill Anderson, Bret...</td>\n",
       "      <td>Not given</td>\n",
       "      <td>['Karl Bollers', 'Tom Defalco', 'Todd Dezago',...</td>\n",
       "      <td>Collects Web of Scarlet Spider (1995) #1-4; Am...</td>\n",
       "      <td>Not given</td>\n",
       "      <td>Hardcover</td>\n",
       "      <td>1304</td>\n",
       "      <td>150.0</td>\n",
       "    </tr>\n",
       "  </tbody>\n",
       "</table>\n",
       "</div>"
      ],
      "text/plain": [
       "                                                title  \\\n",
       "46  SPIDER-MAN: BEN REILLY OMNIBUS VOL. 1 HC BUTLE...   \n",
       "\n",
       "                                               series on_sale_date  \\\n",
       "46  SPIDER-MAN: BEN REILLY OMNIBUS VOL. 1 HC BUTLE...   2023-12-27   \n",
       "\n",
       "                                             creators creators_editor  \\\n",
       "46  Greg Adams, Jeff Albrecht, Bill Anderson, Bret...       Not given   \n",
       "\n",
       "                                      creators_writer  \\\n",
       "46  ['Karl Bollers', 'Tom Defalco', 'Todd Dezago',...   \n",
       "\n",
       "                                          description characters     format  \\\n",
       "46  Collects Web of Scarlet Spider (1995) #1-4; Am...  Not given  Hardcover   \n",
       "\n",
       "    n_of_pages  price  \n",
       "46        1304  150.0  "
      ]
     },
     "execution_count": 70,
     "metadata": {},
     "output_type": "execute_result"
    }
   ],
   "source": [
    "max_page_publication = df.groupby(\"n_of_pages\").get_group(1304)\n",
    "max_page_publication"
   ]
  },
  {
   "cell_type": "code",
   "execution_count": 71,
   "id": "f0bfe70a",
   "metadata": {},
   "outputs": [
    {
     "data": {
      "text/html": [
       "<div>\n",
       "<style scoped>\n",
       "    .dataframe tbody tr th:only-of-type {\n",
       "        vertical-align: middle;\n",
       "    }\n",
       "\n",
       "    .dataframe tbody tr th {\n",
       "        vertical-align: top;\n",
       "    }\n",
       "\n",
       "    .dataframe thead th {\n",
       "        text-align: right;\n",
       "    }\n",
       "</style>\n",
       "<table border=\"1\" class=\"dataframe\">\n",
       "  <thead>\n",
       "    <tr style=\"text-align: right;\">\n",
       "      <th></th>\n",
       "      <th>title</th>\n",
       "      <th>series</th>\n",
       "      <th>on_sale_date</th>\n",
       "      <th>creators</th>\n",
       "      <th>creators_editor</th>\n",
       "      <th>creators_writer</th>\n",
       "      <th>description</th>\n",
       "      <th>characters</th>\n",
       "      <th>format</th>\n",
       "      <th>n_of_pages</th>\n",
       "      <th>price</th>\n",
       "    </tr>\n",
       "  </thead>\n",
       "  <tbody>\n",
       "    <tr>\n",
       "      <th>0</th>\n",
       "      <td>Marvel Mutts Infinity Comic (2023) #5</td>\n",
       "      <td>Marvel Mutts Infinity Comic (2023 - Present)</td>\n",
       "      <td>2023-12-29</td>\n",
       "      <td>Raul Angulo, Mackenzie Cadenhead, Takeshi Miya...</td>\n",
       "      <td>Mark Paniccia</td>\n",
       "      <td>['Mackenzie Cadenhead']</td>\n",
       "      <td>Not given</td>\n",
       "      <td>Lockjaw, Ms. America (America Chavez), Ms. Mar...</td>\n",
       "      <td>Digital Vertical Comic</td>\n",
       "      <td>3</td>\n",
       "      <td>0.0</td>\n",
       "    </tr>\n",
       "    <tr>\n",
       "      <th>1</th>\n",
       "      <td>Alligator Loki Infinity Comic (2022) #29</td>\n",
       "      <td>Alligator Loki Infinity Comic (2022 - 2023)</td>\n",
       "      <td>2023-12-29</td>\n",
       "      <td>Michelle Marchese, Pete Pantazis, Robert Quinn...</td>\n",
       "      <td>Michelle Marchese</td>\n",
       "      <td>['Alyssa Wong']</td>\n",
       "      <td>Not given</td>\n",
       "      <td>Doctor Strange, Loki</td>\n",
       "      <td>Digital Vertical Comic</td>\n",
       "      <td>3</td>\n",
       "      <td>0.0</td>\n",
       "    </tr>\n",
       "    <tr>\n",
       "      <th>76</th>\n",
       "      <td>Alligator Loki Infinity Comic (2022) #28</td>\n",
       "      <td>Alligator Loki Infinity Comic (2022 - 2023)</td>\n",
       "      <td>2023-12-22</td>\n",
       "      <td>Michelle Marchese, Pete Pantazis, Robert Quinn...</td>\n",
       "      <td>Michelle Marchese</td>\n",
       "      <td>['Alyssa Wong']</td>\n",
       "      <td>Not given</td>\n",
       "      <td>Loki</td>\n",
       "      <td>Digital Vertical Comic</td>\n",
       "      <td>3</td>\n",
       "      <td>0.0</td>\n",
       "    </tr>\n",
       "    <tr>\n",
       "      <th>77</th>\n",
       "      <td>Marvel Mutts Infinity Comic (2023) #4</td>\n",
       "      <td>Marvel Mutts Infinity Comic (2023 - Present)</td>\n",
       "      <td>2023-12-22</td>\n",
       "      <td>Raul Angulo, Mackenzie Cadenhead, Takeshi Miya...</td>\n",
       "      <td>Mark Paniccia</td>\n",
       "      <td>['Mackenzie Cadenhead']</td>\n",
       "      <td>Not given</td>\n",
       "      <td>Lockjaw</td>\n",
       "      <td>Digital Vertical Comic</td>\n",
       "      <td>3</td>\n",
       "      <td>0.0</td>\n",
       "    </tr>\n",
       "  </tbody>\n",
       "</table>\n",
       "</div>"
      ],
      "text/plain": [
       "                                       title  \\\n",
       "0      Marvel Mutts Infinity Comic (2023) #5   \n",
       "1   Alligator Loki Infinity Comic (2022) #29   \n",
       "76  Alligator Loki Infinity Comic (2022) #28   \n",
       "77     Marvel Mutts Infinity Comic (2023) #4   \n",
       "\n",
       "                                          series on_sale_date  \\\n",
       "0   Marvel Mutts Infinity Comic (2023 - Present)   2023-12-29   \n",
       "1    Alligator Loki Infinity Comic (2022 - 2023)   2023-12-29   \n",
       "76   Alligator Loki Infinity Comic (2022 - 2023)   2023-12-22   \n",
       "77  Marvel Mutts Infinity Comic (2023 - Present)   2023-12-22   \n",
       "\n",
       "                                             creators    creators_editor  \\\n",
       "0   Raul Angulo, Mackenzie Cadenhead, Takeshi Miya...      Mark Paniccia   \n",
       "1   Michelle Marchese, Pete Pantazis, Robert Quinn...  Michelle Marchese   \n",
       "76  Michelle Marchese, Pete Pantazis, Robert Quinn...  Michelle Marchese   \n",
       "77  Raul Angulo, Mackenzie Cadenhead, Takeshi Miya...      Mark Paniccia   \n",
       "\n",
       "            creators_writer description  \\\n",
       "0   ['Mackenzie Cadenhead']   Not given   \n",
       "1           ['Alyssa Wong']   Not given   \n",
       "76          ['Alyssa Wong']   Not given   \n",
       "77  ['Mackenzie Cadenhead']   Not given   \n",
       "\n",
       "                                           characters                  format  \\\n",
       "0   Lockjaw, Ms. America (America Chavez), Ms. Mar...  Digital Vertical Comic   \n",
       "1                                Doctor Strange, Loki  Digital Vertical Comic   \n",
       "76                                               Loki  Digital Vertical Comic   \n",
       "77                                            Lockjaw  Digital Vertical Comic   \n",
       "\n",
       "    n_of_pages  price  \n",
       "0            3    0.0  \n",
       "1            3    0.0  \n",
       "76           3    0.0  \n",
       "77           3    0.0  "
      ]
     },
     "execution_count": 71,
     "metadata": {},
     "output_type": "execute_result"
    }
   ],
   "source": [
    "min_page_publication = df.groupby(\"n_of_pages\").get_group(3)\n",
    "min_page_publication"
   ]
  },
  {
   "cell_type": "markdown",
   "id": "820bd135",
   "metadata": {},
   "source": [
    "### Obtaining Max Price and Min Price Publication"
   ]
  },
  {
   "cell_type": "markdown",
   "id": "ed029ad3",
   "metadata": {},
   "source": [
    "Thanks to the data obtained in the previous groupings, we know the exact value of **the maximum and minimum price per comic** to filter and find **the exact publication they refer to**."
   ]
  },
  {
   "cell_type": "code",
   "execution_count": 72,
   "id": "da3d5cc0",
   "metadata": {},
   "outputs": [
    {
     "data": {
      "text/html": [
       "<div>\n",
       "<style scoped>\n",
       "    .dataframe tbody tr th:only-of-type {\n",
       "        vertical-align: middle;\n",
       "    }\n",
       "\n",
       "    .dataframe tbody tr th {\n",
       "        vertical-align: top;\n",
       "    }\n",
       "\n",
       "    .dataframe thead th {\n",
       "        text-align: right;\n",
       "    }\n",
       "</style>\n",
       "<table border=\"1\" class=\"dataframe\">\n",
       "  <thead>\n",
       "    <tr style=\"text-align: right;\">\n",
       "      <th></th>\n",
       "      <th>title</th>\n",
       "      <th>series</th>\n",
       "      <th>on_sale_date</th>\n",
       "      <th>creators</th>\n",
       "      <th>creators_editor</th>\n",
       "      <th>creators_writer</th>\n",
       "      <th>description</th>\n",
       "      <th>characters</th>\n",
       "      <th>format</th>\n",
       "      <th>n_of_pages</th>\n",
       "      <th>price</th>\n",
       "    </tr>\n",
       "  </thead>\n",
       "  <tbody>\n",
       "    <tr>\n",
       "      <th>46</th>\n",
       "      <td>SPIDER-MAN: BEN REILLY OMNIBUS VOL. 1 HC BUTLE...</td>\n",
       "      <td>SPIDER-MAN: BEN REILLY OMNIBUS VOL. 1 HC BUTLE...</td>\n",
       "      <td>2023-12-27</td>\n",
       "      <td>Greg Adams, Jeff Albrecht, Bill Anderson, Bret...</td>\n",
       "      <td>Not given</td>\n",
       "      <td>['Karl Bollers', 'Tom Defalco', 'Todd Dezago',...</td>\n",
       "      <td>Collects Web of Scarlet Spider (1995) #1-4; Am...</td>\n",
       "      <td>Not given</td>\n",
       "      <td>Hardcover</td>\n",
       "      <td>1304</td>\n",
       "      <td>150.0</td>\n",
       "    </tr>\n",
       "  </tbody>\n",
       "</table>\n",
       "</div>"
      ],
      "text/plain": [
       "                                                title  \\\n",
       "46  SPIDER-MAN: BEN REILLY OMNIBUS VOL. 1 HC BUTLE...   \n",
       "\n",
       "                                               series on_sale_date  \\\n",
       "46  SPIDER-MAN: BEN REILLY OMNIBUS VOL. 1 HC BUTLE...   2023-12-27   \n",
       "\n",
       "                                             creators creators_editor  \\\n",
       "46  Greg Adams, Jeff Albrecht, Bill Anderson, Bret...       Not given   \n",
       "\n",
       "                                      creators_writer  \\\n",
       "46  ['Karl Bollers', 'Tom Defalco', 'Todd Dezago',...   \n",
       "\n",
       "                                          description characters     format  \\\n",
       "46  Collects Web of Scarlet Spider (1995) #1-4; Am...  Not given  Hardcover   \n",
       "\n",
       "    n_of_pages  price  \n",
       "46        1304  150.0  "
      ]
     },
     "execution_count": 72,
     "metadata": {},
     "output_type": "execute_result"
    }
   ],
   "source": [
    "max_price_publication = df.groupby(\"price\").get_group(150)\n",
    "max_price_publication"
   ]
  },
  {
   "cell_type": "code",
   "execution_count": 73,
   "id": "a97b340f",
   "metadata": {},
   "outputs": [
    {
     "data": {
      "text/html": [
       "<div>\n",
       "<style scoped>\n",
       "    .dataframe tbody tr th:only-of-type {\n",
       "        vertical-align: middle;\n",
       "    }\n",
       "\n",
       "    .dataframe tbody tr th {\n",
       "        vertical-align: top;\n",
       "    }\n",
       "\n",
       "    .dataframe thead th {\n",
       "        text-align: right;\n",
       "    }\n",
       "</style>\n",
       "<table border=\"1\" class=\"dataframe\">\n",
       "  <thead>\n",
       "    <tr style=\"text-align: right;\">\n",
       "      <th></th>\n",
       "      <th>title</th>\n",
       "      <th>series</th>\n",
       "      <th>on_sale_date</th>\n",
       "      <th>creators</th>\n",
       "      <th>creators_editor</th>\n",
       "      <th>creators_writer</th>\n",
       "      <th>description</th>\n",
       "      <th>characters</th>\n",
       "      <th>format</th>\n",
       "      <th>n_of_pages</th>\n",
       "      <th>price</th>\n",
       "    </tr>\n",
       "  </thead>\n",
       "  <tbody>\n",
       "    <tr>\n",
       "      <th>4</th>\n",
       "      <td>Marvel Super Heroes Secret Wars: Battleworld (...</td>\n",
       "      <td>Marvel Super Heroes Secret Wars: Battleworld (...</td>\n",
       "      <td>2023-12-27</td>\n",
       "      <td>Mark Basso, Vc Joe Caramagna, John Tyler Chris...</td>\n",
       "      <td>Mark Basso</td>\n",
       "      <td>['Tom Defalco']</td>\n",
       "      <td>BRING ON THE BAD GUYS! SPIDER-MAN, freshly att...</td>\n",
       "      <td>Not given</td>\n",
       "      <td>Comic</td>\n",
       "      <td>32</td>\n",
       "      <td>3.99</td>\n",
       "    </tr>\n",
       "    <tr>\n",
       "      <th>5</th>\n",
       "      <td>Captain Marvel (2023) #3 (Variant)</td>\n",
       "      <td>Captain Marvel (2023 - Present)</td>\n",
       "      <td>2023-12-27</td>\n",
       "      <td>Jan Bazaldua, Ruairi Coleman, Vc Ariana Maher,...</td>\n",
       "      <td>Emily Newcomen</td>\n",
       "      <td>['Alyssa Wong']</td>\n",
       "      <td>STEALING FROM THE STRANGES! Captain Marvel's t...</td>\n",
       "      <td>Not given</td>\n",
       "      <td>Comic</td>\n",
       "      <td>32</td>\n",
       "      <td>3.99</td>\n",
       "    </tr>\n",
       "    <tr>\n",
       "      <th>12</th>\n",
       "      <td>Black Panther (2023) #7 (Variant)</td>\n",
       "      <td>Black Panther (2023 - Present)</td>\n",
       "      <td>2023-12-27</td>\n",
       "      <td>Eve Ewing, PEACH MOMOKO, Emily Newcomen, Vc Jo...</td>\n",
       "      <td>Emily Newcomen</td>\n",
       "      <td>['Eve Ewing']</td>\n",
       "      <td>A FACTION WAR BREWING IN BIRNIN T'CHAKA?  Blac...</td>\n",
       "      <td>Not given</td>\n",
       "      <td>Comic</td>\n",
       "      <td>32</td>\n",
       "      <td>3.99</td>\n",
       "    </tr>\n",
       "    <tr>\n",
       "      <th>13</th>\n",
       "      <td>Miles Morales: Spider-Man (2022) #14 (Variant)</td>\n",
       "      <td>Miles Morales: Spider-Man (2022 - 2023)</td>\n",
       "      <td>2023-12-27</td>\n",
       "      <td>Thomas Groneman, In-Hyuk Lee, Vc Cory Petit, B...</td>\n",
       "      <td>Thomas Groneman</td>\n",
       "      <td>['Cody Ziglar']</td>\n",
       "      <td>THE PROWLER ENTERS THE BATTLEFIELD! HOBGOBLIN ...</td>\n",
       "      <td>Not given</td>\n",
       "      <td>Comic</td>\n",
       "      <td>32</td>\n",
       "      <td>3.99</td>\n",
       "    </tr>\n",
       "    <tr>\n",
       "      <th>14</th>\n",
       "      <td>Marvel Super Heroes Secret Wars: Battleworld (...</td>\n",
       "      <td>Marvel Super Heroes Secret Wars: Battleworld (...</td>\n",
       "      <td>2023-12-27</td>\n",
       "      <td>Vc Joe Caramagna, Tom Defalco, Sean “Cheeks” G...</td>\n",
       "      <td>Emily Newcomen</td>\n",
       "      <td>['Tom Defalco']</td>\n",
       "      <td>BRING ON THE BAD GUYS! SPIDER-MAN, freshly att...</td>\n",
       "      <td>Not given</td>\n",
       "      <td>Comic</td>\n",
       "      <td>32</td>\n",
       "      <td>3.99</td>\n",
       "    </tr>\n",
       "    <tr>\n",
       "      <th>20</th>\n",
       "      <td>Sensational She-Hulk (2023) #3 (Variant)</td>\n",
       "      <td>Sensational She-Hulk (2023 - 2024)</td>\n",
       "      <td>2023-12-27</td>\n",
       "      <td>Vc Joe Caramagna, DEE CUNNIFFE, Ariel Diaz, An...</td>\n",
       "      <td>Nick Lowe</td>\n",
       "      <td>['Rainbow Rowell']</td>\n",
       "      <td>SHE-HULK &amp; HULK face off against one of She-Hu...</td>\n",
       "      <td>Not given</td>\n",
       "      <td>Comic</td>\n",
       "      <td>32</td>\n",
       "      <td>3.99</td>\n",
       "    </tr>\n",
       "    <tr>\n",
       "      <th>22</th>\n",
       "      <td>Miles Morales: Spider-Man (2022) #14</td>\n",
       "      <td>Miles Morales: Spider-Man (2022 - 2023)</td>\n",
       "      <td>2023-12-27</td>\n",
       "      <td>Thomas Groneman, Vc Cory Petit, Alejandro Sanc...</td>\n",
       "      <td>Thomas Groneman</td>\n",
       "      <td>['Cody Ziglar']</td>\n",
       "      <td>THE PROWLER ENTERS THE BATTLEFIELD! HOBGOBLIN ...</td>\n",
       "      <td>Prowler, Spider-Man (Miles Morales)</td>\n",
       "      <td>Comic</td>\n",
       "      <td>32</td>\n",
       "      <td>3.99</td>\n",
       "    </tr>\n",
       "    <tr>\n",
       "      <th>25</th>\n",
       "      <td>Sensational She-Hulk (2023) #3</td>\n",
       "      <td>Sensational She-Hulk (2023 - 2024)</td>\n",
       "      <td>2023-12-27</td>\n",
       "      <td>Jen Bartel, Vc Joe Caramagna, Andres Genolet, ...</td>\n",
       "      <td>Nick Lowe</td>\n",
       "      <td>['Rainbow Rowell']</td>\n",
       "      <td>SHE-HULK &amp; HULK face off against one of She-Hu...</td>\n",
       "      <td>Hulk, She-Hulk (Jennifer Walters)</td>\n",
       "      <td>Comic</td>\n",
       "      <td>32</td>\n",
       "      <td>3.99</td>\n",
       "    </tr>\n",
       "    <tr>\n",
       "      <th>26</th>\n",
       "      <td>Marvel Super Heroes Secret Wars: Battleworld (...</td>\n",
       "      <td>Marvel Super Heroes Secret Wars: Battleworld (...</td>\n",
       "      <td>2023-12-27</td>\n",
       "      <td>Mark Basso, Vc Joe Caramagna, Tom Defalco, MAT...</td>\n",
       "      <td>Mark Basso</td>\n",
       "      <td>['Tom Defalco']</td>\n",
       "      <td>BRING ON THE BAD GUYS! SPIDER-MAN, freshly att...</td>\n",
       "      <td>Not given</td>\n",
       "      <td>Comic</td>\n",
       "      <td>32</td>\n",
       "      <td>3.99</td>\n",
       "    </tr>\n",
       "    <tr>\n",
       "      <th>29</th>\n",
       "      <td>X-Force (2019) #47 (Variant)</td>\n",
       "      <td>X-Force (2019 - Present)</td>\n",
       "      <td>2023-12-27</td>\n",
       "      <td>Mark Basso, Vc Joe Caramagna, Guru Efx, Benjam...</td>\n",
       "      <td>Mark Basso</td>\n",
       "      <td>['Benjamin Percy']</td>\n",
       "      <td>X-FORCE: RELOADED! A SPECIAL ISSUE! X-FORCE RE...</td>\n",
       "      <td>Not given</td>\n",
       "      <td>Comic</td>\n",
       "      <td>32</td>\n",
       "      <td>3.99</td>\n",
       "    </tr>\n",
       "    <tr>\n",
       "      <th>30</th>\n",
       "      <td>Spider-Woman (2023) #2 (Variant)</td>\n",
       "      <td>Spider-Woman (2023 - Present)</td>\n",
       "      <td>2023-12-27</td>\n",
       "      <td>Carola Borelli, Steve Foxe, David Nakayama, Em...</td>\n",
       "      <td>Emily Newcomen</td>\n",
       "      <td>['Steve Foxe']</td>\n",
       "      <td>SPIDER-WOMAN GOES TO WAR… …against the GANG WA...</td>\n",
       "      <td>Not given</td>\n",
       "      <td>Comic</td>\n",
       "      <td>32</td>\n",
       "      <td>3.99</td>\n",
       "    </tr>\n",
       "    <tr>\n",
       "      <th>32</th>\n",
       "      <td>Avengers Inc. (2023) #4 (Variant)</td>\n",
       "      <td>Avengers Inc. (2023 - Present)</td>\n",
       "      <td>2023-12-27</td>\n",
       "      <td>Carmen Carnero, Al Ewing, Leonard Kirk, Emily ...</td>\n",
       "      <td>Emily Newcomen</td>\n",
       "      <td>['Al Ewing']</td>\n",
       "      <td>GO FOR THE JUGGLER! Her name is Janet Van Dyne...</td>\n",
       "      <td>Not given</td>\n",
       "      <td>Comic</td>\n",
       "      <td>32</td>\n",
       "      <td>3.99</td>\n",
       "    </tr>\n",
       "    <tr>\n",
       "      <th>33</th>\n",
       "      <td>Immortal X-Men (2022) #18 (Variant)</td>\n",
       "      <td>Immortal X-Men (2022 - Present)</td>\n",
       "      <td>2023-12-27</td>\n",
       "      <td>Vc Clayton Cowles, David Curiel, Kieron Gillen...</td>\n",
       "      <td>Jordan White</td>\n",
       "      <td>['Kieron Gillen']</td>\n",
       "      <td>FOREVER CHANGES! Being immortal means nothing ...</td>\n",
       "      <td>Not given</td>\n",
       "      <td>Comic</td>\n",
       "      <td>32</td>\n",
       "      <td>3.99</td>\n",
       "    </tr>\n",
       "    <tr>\n",
       "      <th>35</th>\n",
       "      <td>Spider-Woman (2023) #2 (Variant)</td>\n",
       "      <td>Spider-Woman (2023 - Present)</td>\n",
       "      <td>2023-12-27</td>\n",
       "      <td>Carola Borelli, Steve Foxe, Ema Lupacchino, El...</td>\n",
       "      <td>Elizabeth Pyle</td>\n",
       "      <td>['Steve Foxe']</td>\n",
       "      <td>SPIDER-WOMAN GOES TO WAR… …against the GANG WA...</td>\n",
       "      <td>Not given</td>\n",
       "      <td>Comic</td>\n",
       "      <td>32</td>\n",
       "      <td>3.99</td>\n",
       "    </tr>\n",
       "    <tr>\n",
       "      <th>38</th>\n",
       "      <td>Captain Marvel (2023) #3 (Variant)</td>\n",
       "      <td>Captain Marvel (2023 - Present)</td>\n",
       "      <td>2023-12-27</td>\n",
       "      <td>Sarah Brunstad, Vc Ariana Maher, Joshua \"Sway”...</td>\n",
       "      <td>Sarah Brunstad</td>\n",
       "      <td>['Alyssa Wong']</td>\n",
       "      <td>STEALING FROM THE STRANGES! Captain Marvel's t...</td>\n",
       "      <td>Not given</td>\n",
       "      <td>Comic</td>\n",
       "      <td>32</td>\n",
       "      <td>3.99</td>\n",
       "    </tr>\n",
       "    <tr>\n",
       "      <th>40</th>\n",
       "      <td>Immortal X-Men (2022) #18</td>\n",
       "      <td>Immortal X-Men (2022 - Present)</td>\n",
       "      <td>2023-12-27</td>\n",
       "      <td>Mark Brooks, Vc Clayton Cowles, David Curiel, ...</td>\n",
       "      <td>Jordan White</td>\n",
       "      <td>['Kieron Gillen']</td>\n",
       "      <td>FOREVER CHANGES! Being immortal means nothing ...</td>\n",
       "      <td>Charles Xavier, Destiny, Emma Frost, Exodus, H...</td>\n",
       "      <td>Comic</td>\n",
       "      <td>32</td>\n",
       "      <td>3.99</td>\n",
       "    </tr>\n",
       "    <tr>\n",
       "      <th>43</th>\n",
       "      <td>Marvel Super Heroes Secret Wars: Battleworld (...</td>\n",
       "      <td>Marvel Super Heroes Secret Wars: Battleworld (...</td>\n",
       "      <td>2023-12-27</td>\n",
       "      <td>Mark Basso, Vc Joe Caramagna, Tom Defalco, Tod...</td>\n",
       "      <td>Mark Basso</td>\n",
       "      <td>['Tom Defalco']</td>\n",
       "      <td>BRING ON THE BAD GUYS! SPIDER-MAN, freshly att...</td>\n",
       "      <td>Not given</td>\n",
       "      <td>Comic</td>\n",
       "      <td>32</td>\n",
       "      <td>3.99</td>\n",
       "    </tr>\n",
       "    <tr>\n",
       "      <th>45</th>\n",
       "      <td>Avengers Inc. (2023) #4</td>\n",
       "      <td>Avengers Inc. (2023 - Present)</td>\n",
       "      <td>2023-12-27</td>\n",
       "      <td>Daniel Acuna, Tom Brevoort, Al Ewing, Leonard ...</td>\n",
       "      <td>Tom Brevoort</td>\n",
       "      <td>['Al Ewing']</td>\n",
       "      <td>GO FOR THE JUGGLER! Her name is Janet Van Dyne...</td>\n",
       "      <td>Moon Knight, Vision, Wasp</td>\n",
       "      <td>Comic</td>\n",
       "      <td>32</td>\n",
       "      <td>3.99</td>\n",
       "    </tr>\n",
       "    <tr>\n",
       "      <th>47</th>\n",
       "      <td>Marvel Super Heroes Secret Wars: Battleworld (...</td>\n",
       "      <td>Marvel Super Heroes Secret Wars: Battleworld (...</td>\n",
       "      <td>2023-12-27</td>\n",
       "      <td>Mark Basso, Giuseppe Camuncoli, Vc Joe Caramag...</td>\n",
       "      <td>Mark Basso</td>\n",
       "      <td>['Tom Defalco']</td>\n",
       "      <td>BRING ON THE BAD GUYS! SPIDER-MAN, freshly att...</td>\n",
       "      <td>Absorbing Man, Baron Zemo (Helmut Zemo), Const...</td>\n",
       "      <td>Comic</td>\n",
       "      <td>32</td>\n",
       "      <td>3.99</td>\n",
       "    </tr>\n",
       "    <tr>\n",
       "      <th>48</th>\n",
       "      <td>Sensational She-Hulk (2023) #3 (Variant)</td>\n",
       "      <td>Sensational She-Hulk (2023 - 2024)</td>\n",
       "      <td>2023-12-27</td>\n",
       "      <td>Vc Joe Caramagna, DEE CUNNIFFE, Andres Genolet...</td>\n",
       "      <td>Nick Lowe</td>\n",
       "      <td>['Rainbow Rowell']</td>\n",
       "      <td>SHE-HULK &amp; HULK face off against one of She-Hu...</td>\n",
       "      <td>Not given</td>\n",
       "      <td>Comic</td>\n",
       "      <td>32</td>\n",
       "      <td>3.99</td>\n",
       "    </tr>\n",
       "    <tr>\n",
       "      <th>49</th>\n",
       "      <td>X-Force (2019) #47</td>\n",
       "      <td>X-Force (2019 - Present)</td>\n",
       "      <td>2023-12-27</td>\n",
       "      <td>Daniel Acuna, Mark Basso, Vc Joe Caramagna, Gu...</td>\n",
       "      <td>Mark Basso</td>\n",
       "      <td>['Benjamin Percy']</td>\n",
       "      <td>X-FORCE: RELOADED! A SPECIAL ISSUE! X-FORCE RE...</td>\n",
       "      <td>Black Tom, Colossus, Domino, Omega Red, Quenti...</td>\n",
       "      <td>Comic</td>\n",
       "      <td>32</td>\n",
       "      <td>3.99</td>\n",
       "    </tr>\n",
       "    <tr>\n",
       "      <th>52</th>\n",
       "      <td>Black Panther (2023) #7 (Variant)</td>\n",
       "      <td>Black Panther (2023 - Present)</td>\n",
       "      <td>2023-12-27</td>\n",
       "      <td>Eve Ewing, Alexander Lozano, Emily Newcomen, V...</td>\n",
       "      <td>Emily Newcomen</td>\n",
       "      <td>['Eve Ewing']</td>\n",
       "      <td>A FACTION WAR BREWING IN BIRNIN T'CHAKA?  Blac...</td>\n",
       "      <td>Not given</td>\n",
       "      <td>Comic</td>\n",
       "      <td>32</td>\n",
       "      <td>3.99</td>\n",
       "    </tr>\n",
       "    <tr>\n",
       "      <th>54</th>\n",
       "      <td>Marvel Super Heroes Secret Wars: Battleworld (...</td>\n",
       "      <td>Marvel Super Heroes Secret Wars: Battleworld (...</td>\n",
       "      <td>2023-12-27</td>\n",
       "      <td>Vc Joe Caramagna, Tom Defalco, John Kalisz, Em...</td>\n",
       "      <td>Emily Newcomen</td>\n",
       "      <td>['Tom Defalco']</td>\n",
       "      <td>BRING ON THE BAD GUYS! SPIDER-MAN, freshly att...</td>\n",
       "      <td>Not given</td>\n",
       "      <td>Comic</td>\n",
       "      <td>32</td>\n",
       "      <td>3.99</td>\n",
       "    </tr>\n",
       "    <tr>\n",
       "      <th>55</th>\n",
       "      <td>X-Force (2019) #47 (Variant)</td>\n",
       "      <td>X-Force (2019 - Present)</td>\n",
       "      <td>2023-12-27</td>\n",
       "      <td>Vc Joe Caramagna, Guru Efx, Hicham Habchi, Emi...</td>\n",
       "      <td>Emily Newcomen</td>\n",
       "      <td>['Benjamin Percy']</td>\n",
       "      <td>X-FORCE: RELOADED! A SPECIAL ISSUE! X-FORCE RE...</td>\n",
       "      <td>Not given</td>\n",
       "      <td>Comic</td>\n",
       "      <td>32</td>\n",
       "      <td>3.99</td>\n",
       "    </tr>\n",
       "    <tr>\n",
       "      <th>57</th>\n",
       "      <td>Spider-Woman (2023) #2 (Variant)</td>\n",
       "      <td>Spider-Woman (2023 - Present)</td>\n",
       "      <td>2023-12-27</td>\n",
       "      <td>Carola Borelli, Steve Foxe, PEACH MOMOKO, Emil...</td>\n",
       "      <td>Emily Newcomen</td>\n",
       "      <td>['Steve Foxe']</td>\n",
       "      <td>SPIDER-WOMAN GOES TO WAR… …against the GANG WA...</td>\n",
       "      <td>Not given</td>\n",
       "      <td>Comic</td>\n",
       "      <td>32</td>\n",
       "      <td>3.99</td>\n",
       "    </tr>\n",
       "    <tr>\n",
       "      <th>60</th>\n",
       "      <td>Sensational She-Hulk (2023) #3 (Variant)</td>\n",
       "      <td>Sensational She-Hulk (2023 - 2024)</td>\n",
       "      <td>2023-12-27</td>\n",
       "      <td>Vc Joe Caramagna, Michael Cho, Andres Genolet,...</td>\n",
       "      <td>Emily Newcomen</td>\n",
       "      <td>['Rainbow Rowell']</td>\n",
       "      <td>SHE-HULK &amp; HULK face off against one of She-Hu...</td>\n",
       "      <td>Not given</td>\n",
       "      <td>Comic</td>\n",
       "      <td>32</td>\n",
       "      <td>3.99</td>\n",
       "    </tr>\n",
       "    <tr>\n",
       "      <th>61</th>\n",
       "      <td>Captain Marvel (2023) #3</td>\n",
       "      <td>Captain Marvel (2023 - Present)</td>\n",
       "      <td>2023-12-27</td>\n",
       "      <td>Jan Bazaldua, Ruairi Coleman, Sarah Brunstad, ...</td>\n",
       "      <td>Sarah Brunstad</td>\n",
       "      <td>['Alyssa Wong']</td>\n",
       "      <td>STEALING FROM THE STRANGES! Captain Marvel's t...</td>\n",
       "      <td>Captain Marvel (Carol Danvers), Clea, Doctor S...</td>\n",
       "      <td>Comic</td>\n",
       "      <td>32</td>\n",
       "      <td>3.99</td>\n",
       "    </tr>\n",
       "    <tr>\n",
       "      <th>63</th>\n",
       "      <td>Captain Marvel (2023) #3 (Variant)</td>\n",
       "      <td>Captain Marvel (2023 - Present)</td>\n",
       "      <td>2023-12-27</td>\n",
       "      <td>Vc Ariana Maher, Emily Newcomen, Marguerite Sa...</td>\n",
       "      <td>Emily Newcomen</td>\n",
       "      <td>['Alyssa Wong']</td>\n",
       "      <td>STEALING FROM THE STRANGES! Captain Marvel's t...</td>\n",
       "      <td>Not given</td>\n",
       "      <td>Comic</td>\n",
       "      <td>32</td>\n",
       "      <td>3.99</td>\n",
       "    </tr>\n",
       "    <tr>\n",
       "      <th>64</th>\n",
       "      <td>Avengers Inc. (2023) #4 (Variant)</td>\n",
       "      <td>Avengers Inc. (2023 - Present)</td>\n",
       "      <td>2023-12-27</td>\n",
       "      <td>Tom Brevoort, Al Ewing, Leonard Kirk, Vc Cory ...</td>\n",
       "      <td>Tom Brevoort</td>\n",
       "      <td>['Al Ewing']</td>\n",
       "      <td>GO FOR THE JUGGLER! Her name is Janet Van Dyne...</td>\n",
       "      <td>Not given</td>\n",
       "      <td>Comic</td>\n",
       "      <td>32</td>\n",
       "      <td>3.99</td>\n",
       "    </tr>\n",
       "    <tr>\n",
       "      <th>65</th>\n",
       "      <td>Spider-Woman (2023) #2</td>\n",
       "      <td>Spider-Woman (2023 - Present)</td>\n",
       "      <td>2023-12-27</td>\n",
       "      <td>Carola Borelli, Steve Foxe, Sunny Gho, Arif Pr...</td>\n",
       "      <td>Elizabeth Pyle</td>\n",
       "      <td>['Steve Foxe']</td>\n",
       "      <td>SPIDER-WOMAN GOES TO WAR… …against the GANG WA...</td>\n",
       "      <td>Madame Hydra, Nightshade, Spider-Woman (Jessic...</td>\n",
       "      <td>Comic</td>\n",
       "      <td>32</td>\n",
       "      <td>3.99</td>\n",
       "    </tr>\n",
       "    <tr>\n",
       "      <th>66</th>\n",
       "      <td>Immortal X-Men (2022) #18 (Variant)</td>\n",
       "      <td>Immortal X-Men (2022 - Present)</td>\n",
       "      <td>2023-12-27</td>\n",
       "      <td>Vc Clayton Cowles, David Curiel, Kieron Gillen...</td>\n",
       "      <td>Jordan White</td>\n",
       "      <td>['Kieron Gillen']</td>\n",
       "      <td>FOREVER CHANGES! Being immortal means nothing ...</td>\n",
       "      <td>Not given</td>\n",
       "      <td>Comic</td>\n",
       "      <td>32</td>\n",
       "      <td>3.99</td>\n",
       "    </tr>\n",
       "    <tr>\n",
       "      <th>69</th>\n",
       "      <td>Marvel Super Heroes Secret Wars: Battleworld (...</td>\n",
       "      <td>Marvel Super Heroes Secret Wars: Battleworld (...</td>\n",
       "      <td>2023-12-27</td>\n",
       "      <td>Mark Basso, Vc Joe Caramagna, Tom Defalco, Joh...</td>\n",
       "      <td>Mark Basso</td>\n",
       "      <td>['Tom Defalco']</td>\n",
       "      <td>BRING ON THE BAD GUYS! SPIDER-MAN, freshly att...</td>\n",
       "      <td>Not given</td>\n",
       "      <td>Comic</td>\n",
       "      <td>32</td>\n",
       "      <td>3.99</td>\n",
       "    </tr>\n",
       "    <tr>\n",
       "      <th>70</th>\n",
       "      <td>Spider-Woman (2023) #2 (Variant)</td>\n",
       "      <td>Spider-Woman (2023 - Present)</td>\n",
       "      <td>2023-12-27</td>\n",
       "      <td>Carola Borelli, Steve Foxe, Emily Newcomen, Vc...</td>\n",
       "      <td>Emily Newcomen</td>\n",
       "      <td>['Steve Foxe']</td>\n",
       "      <td>SPIDER-WOMAN GOES TO WAR… …against the GANG WA...</td>\n",
       "      <td>Not given</td>\n",
       "      <td>Comic</td>\n",
       "      <td>32</td>\n",
       "      <td>3.99</td>\n",
       "    </tr>\n",
       "    <tr>\n",
       "      <th>73</th>\n",
       "      <td>Black Panther (2023) #7</td>\n",
       "      <td>Black Panther (2023 - Present)</td>\n",
       "      <td>2023-12-27</td>\n",
       "      <td>Jesus Aburtov, Christopher Allen, Mack Chater,...</td>\n",
       "      <td>Wilson Moss</td>\n",
       "      <td>['Eve Ewing']</td>\n",
       "      <td>A FACTION WAR BREWING IN BIRNIN T'CHAKA? Black...</td>\n",
       "      <td>Black Panther</td>\n",
       "      <td>Comic</td>\n",
       "      <td>32</td>\n",
       "      <td>3.99</td>\n",
       "    </tr>\n",
       "    <tr>\n",
       "      <th>79</th>\n",
       "      <td>Spine-Tingling Spider-Man (2023) #3 (Variant)</td>\n",
       "      <td>Spine-Tingling Spider-Man (2023 - Present)</td>\n",
       "      <td>2023-12-20</td>\n",
       "      <td>Saladin Ahmed, Alessandro Cappuccio, Vc Joe Ca...</td>\n",
       "      <td>Nick Lowe</td>\n",
       "      <td>['Saladin Ahmed']</td>\n",
       "      <td>Spider-Man gets stuck in the most horrifying h...</td>\n",
       "      <td>Not given</td>\n",
       "      <td>Comic</td>\n",
       "      <td>32</td>\n",
       "      <td>3.99</td>\n",
       "    </tr>\n",
       "    <tr>\n",
       "      <th>82</th>\n",
       "      <td>Doctor Strange (2023) #10</td>\n",
       "      <td>Doctor Strange (2023 - Present)</td>\n",
       "      <td>2023-12-20</td>\n",
       "      <td>Pasqual Ferry, Jed Mackay, Heather Moore, Vc C...</td>\n",
       "      <td>Darren Shan</td>\n",
       "      <td>['Jed Mackay']</td>\n",
       "      <td>GENERAL STRANGE VS. THE SORCERER SUPREME! Gene...</td>\n",
       "      <td>Clea, Doctor Strange, Wong</td>\n",
       "      <td>Comic</td>\n",
       "      <td>32</td>\n",
       "      <td>3.99</td>\n",
       "    </tr>\n",
       "    <tr>\n",
       "      <th>83</th>\n",
       "      <td>Astonishing Iceman (2023) #5</td>\n",
       "      <td>Astonishing Iceman (2023 - Present)</td>\n",
       "      <td>2023-12-20</td>\n",
       "      <td>Mark Basso, Vincenzo Carratu, Vc Travis Lanham...</td>\n",
       "      <td>Mark Basso</td>\n",
       "      <td>['Steve Orlando']</td>\n",
       "      <td>SHATTERED! ORCHIS has figured out ICEMAN's sec...</td>\n",
       "      <td>Iceman</td>\n",
       "      <td>Comic</td>\n",
       "      <td>32</td>\n",
       "      <td>3.99</td>\n",
       "    </tr>\n",
       "    <tr>\n",
       "      <th>86</th>\n",
       "      <td>Uncanny Avengers (2023) #5</td>\n",
       "      <td>Uncanny Avengers (2023 - Present)</td>\n",
       "      <td>2023-12-20</td>\n",
       "      <td>Tom Brevoort, Gerry Duggan, Javier Garron, Mor...</td>\n",
       "      <td>Tom Brevoort</td>\n",
       "      <td>['Gerry Duggan']</td>\n",
       "      <td>CAPTAIN KRAKOA - UNMASKED!</td>\n",
       "      <td>Black Widow, Captain America, Deadpool, M (Mon...</td>\n",
       "      <td>Comic</td>\n",
       "      <td>32</td>\n",
       "      <td>3.99</td>\n",
       "    </tr>\n",
       "    <tr>\n",
       "      <th>89</th>\n",
       "      <td>Uncanny Avengers (2023) #5 (Variant)</td>\n",
       "      <td>Uncanny Avengers (2023 - Present)</td>\n",
       "      <td>2023-12-20</td>\n",
       "      <td>Tom Brevoort, Gerry Duggan, Javier Garron, Mor...</td>\n",
       "      <td>Tom Brevoort</td>\n",
       "      <td>['Gerry Duggan']</td>\n",
       "      <td>CAPTAIN KRAKOA - UNMASKED!</td>\n",
       "      <td>Not given</td>\n",
       "      <td>Comic</td>\n",
       "      <td>32</td>\n",
       "      <td>3.99</td>\n",
       "    </tr>\n",
       "    <tr>\n",
       "      <th>90</th>\n",
       "      <td>Daredevil: Black Armor (2023) #2 (Variant)</td>\n",
       "      <td>Daredevil: Black Armor (2023 - Present)</td>\n",
       "      <td>2023-12-20</td>\n",
       "      <td>Jesus Aburtov, D.G. Chichester, Martin Coccolo...</td>\n",
       "      <td>Emily Newcomen</td>\n",
       "      <td>['D.G. Chichester']</td>\n",
       "      <td>BACK IN BLACK!  MATT MURDOCK will need to push...</td>\n",
       "      <td>Not given</td>\n",
       "      <td>Comic</td>\n",
       "      <td>32</td>\n",
       "      <td>3.99</td>\n",
       "    </tr>\n",
       "    <tr>\n",
       "      <th>91</th>\n",
       "      <td>Uncanny Spider-Man (2023) #5 (Variant)</td>\n",
       "      <td>Uncanny Spider-Man (2023 - Present)</td>\n",
       "      <td>2023-12-20</td>\n",
       "      <td>Sarah Brunstad, Vc Joe Caramagna, Lee Garbett,...</td>\n",
       "      <td>Sarah Brunstad</td>\n",
       "      <td>['Si Spurrier']</td>\n",
       "      <td>IN THE CLAWS OF THE VULTURE! Mystique is missi...</td>\n",
       "      <td>Not given</td>\n",
       "      <td>Comic</td>\n",
       "      <td>32</td>\n",
       "      <td>3.99</td>\n",
       "    </tr>\n",
       "    <tr>\n",
       "      <th>96</th>\n",
       "      <td>Capwolf &amp; the Howling Commandos (2023) #3</td>\n",
       "      <td>Capwolf &amp; the Howling Commandos (2023 - Present)</td>\n",
       "      <td>2023-12-20</td>\n",
       "      <td>Ryan Brown, Espen Grundetjern, Vc Travis Lanha...</td>\n",
       "      <td>Alanna Smith</td>\n",
       "      <td>['Stephanie Phillips']</td>\n",
       "      <td>With Capwolf at the helm, the Howling Commando...</td>\n",
       "      <td>Captain America</td>\n",
       "      <td>Comic</td>\n",
       "      <td>32</td>\n",
       "      <td>3.99</td>\n",
       "    </tr>\n",
       "  </tbody>\n",
       "</table>\n",
       "</div>"
      ],
      "text/plain": [
       "                                                title  \\\n",
       "4   Marvel Super Heroes Secret Wars: Battleworld (...   \n",
       "5                  Captain Marvel (2023) #3 (Variant)   \n",
       "12                  Black Panther (2023) #7 (Variant)   \n",
       "13     Miles Morales: Spider-Man (2022) #14 (Variant)   \n",
       "14  Marvel Super Heroes Secret Wars: Battleworld (...   \n",
       "20           Sensational She-Hulk (2023) #3 (Variant)   \n",
       "22               Miles Morales: Spider-Man (2022) #14   \n",
       "25                     Sensational She-Hulk (2023) #3   \n",
       "26  Marvel Super Heroes Secret Wars: Battleworld (...   \n",
       "29                       X-Force (2019) #47 (Variant)   \n",
       "30                   Spider-Woman (2023) #2 (Variant)   \n",
       "32                  Avengers Inc. (2023) #4 (Variant)   \n",
       "33                Immortal X-Men (2022) #18 (Variant)   \n",
       "35                   Spider-Woman (2023) #2 (Variant)   \n",
       "38                 Captain Marvel (2023) #3 (Variant)   \n",
       "40                          Immortal X-Men (2022) #18   \n",
       "43  Marvel Super Heroes Secret Wars: Battleworld (...   \n",
       "45                            Avengers Inc. (2023) #4   \n",
       "47  Marvel Super Heroes Secret Wars: Battleworld (...   \n",
       "48           Sensational She-Hulk (2023) #3 (Variant)   \n",
       "49                                 X-Force (2019) #47   \n",
       "52                  Black Panther (2023) #7 (Variant)   \n",
       "54  Marvel Super Heroes Secret Wars: Battleworld (...   \n",
       "55                       X-Force (2019) #47 (Variant)   \n",
       "57                   Spider-Woman (2023) #2 (Variant)   \n",
       "60           Sensational She-Hulk (2023) #3 (Variant)   \n",
       "61                           Captain Marvel (2023) #3   \n",
       "63                 Captain Marvel (2023) #3 (Variant)   \n",
       "64                  Avengers Inc. (2023) #4 (Variant)   \n",
       "65                             Spider-Woman (2023) #2   \n",
       "66                Immortal X-Men (2022) #18 (Variant)   \n",
       "69  Marvel Super Heroes Secret Wars: Battleworld (...   \n",
       "70                   Spider-Woman (2023) #2 (Variant)   \n",
       "73                            Black Panther (2023) #7   \n",
       "79      Spine-Tingling Spider-Man (2023) #3 (Variant)   \n",
       "82                          Doctor Strange (2023) #10   \n",
       "83                       Astonishing Iceman (2023) #5   \n",
       "86                         Uncanny Avengers (2023) #5   \n",
       "89               Uncanny Avengers (2023) #5 (Variant)   \n",
       "90         Daredevil: Black Armor (2023) #2 (Variant)   \n",
       "91             Uncanny Spider-Man (2023) #5 (Variant)   \n",
       "96          Capwolf & the Howling Commandos (2023) #3   \n",
       "\n",
       "                                               series on_sale_date  \\\n",
       "4   Marvel Super Heroes Secret Wars: Battleworld (...   2023-12-27   \n",
       "5                     Captain Marvel (2023 - Present)   2023-12-27   \n",
       "12                     Black Panther (2023 - Present)   2023-12-27   \n",
       "13            Miles Morales: Spider-Man (2022 - 2023)   2023-12-27   \n",
       "14  Marvel Super Heroes Secret Wars: Battleworld (...   2023-12-27   \n",
       "20                 Sensational She-Hulk (2023 - 2024)   2023-12-27   \n",
       "22            Miles Morales: Spider-Man (2022 - 2023)   2023-12-27   \n",
       "25                 Sensational She-Hulk (2023 - 2024)   2023-12-27   \n",
       "26  Marvel Super Heroes Secret Wars: Battleworld (...   2023-12-27   \n",
       "29                           X-Force (2019 - Present)   2023-12-27   \n",
       "30                      Spider-Woman (2023 - Present)   2023-12-27   \n",
       "32                     Avengers Inc. (2023 - Present)   2023-12-27   \n",
       "33                    Immortal X-Men (2022 - Present)   2023-12-27   \n",
       "35                      Spider-Woman (2023 - Present)   2023-12-27   \n",
       "38                    Captain Marvel (2023 - Present)   2023-12-27   \n",
       "40                    Immortal X-Men (2022 - Present)   2023-12-27   \n",
       "43  Marvel Super Heroes Secret Wars: Battleworld (...   2023-12-27   \n",
       "45                     Avengers Inc. (2023 - Present)   2023-12-27   \n",
       "47  Marvel Super Heroes Secret Wars: Battleworld (...   2023-12-27   \n",
       "48                 Sensational She-Hulk (2023 - 2024)   2023-12-27   \n",
       "49                           X-Force (2019 - Present)   2023-12-27   \n",
       "52                     Black Panther (2023 - Present)   2023-12-27   \n",
       "54  Marvel Super Heroes Secret Wars: Battleworld (...   2023-12-27   \n",
       "55                           X-Force (2019 - Present)   2023-12-27   \n",
       "57                      Spider-Woman (2023 - Present)   2023-12-27   \n",
       "60                 Sensational She-Hulk (2023 - 2024)   2023-12-27   \n",
       "61                    Captain Marvel (2023 - Present)   2023-12-27   \n",
       "63                    Captain Marvel (2023 - Present)   2023-12-27   \n",
       "64                     Avengers Inc. (2023 - Present)   2023-12-27   \n",
       "65                      Spider-Woman (2023 - Present)   2023-12-27   \n",
       "66                    Immortal X-Men (2022 - Present)   2023-12-27   \n",
       "69  Marvel Super Heroes Secret Wars: Battleworld (...   2023-12-27   \n",
       "70                      Spider-Woman (2023 - Present)   2023-12-27   \n",
       "73                     Black Panther (2023 - Present)   2023-12-27   \n",
       "79         Spine-Tingling Spider-Man (2023 - Present)   2023-12-20   \n",
       "82                    Doctor Strange (2023 - Present)   2023-12-20   \n",
       "83                Astonishing Iceman (2023 - Present)   2023-12-20   \n",
       "86                  Uncanny Avengers (2023 - Present)   2023-12-20   \n",
       "89                  Uncanny Avengers (2023 - Present)   2023-12-20   \n",
       "90            Daredevil: Black Armor (2023 - Present)   2023-12-20   \n",
       "91                Uncanny Spider-Man (2023 - Present)   2023-12-20   \n",
       "96   Capwolf & the Howling Commandos (2023 - Present)   2023-12-20   \n",
       "\n",
       "                                             creators  creators_editor  \\\n",
       "4   Mark Basso, Vc Joe Caramagna, John Tyler Chris...       Mark Basso   \n",
       "5   Jan Bazaldua, Ruairi Coleman, Vc Ariana Maher,...   Emily Newcomen   \n",
       "12  Eve Ewing, PEACH MOMOKO, Emily Newcomen, Vc Jo...   Emily Newcomen   \n",
       "13  Thomas Groneman, In-Hyuk Lee, Vc Cory Petit, B...  Thomas Groneman   \n",
       "14  Vc Joe Caramagna, Tom Defalco, Sean “Cheeks” G...   Emily Newcomen   \n",
       "20  Vc Joe Caramagna, DEE CUNNIFFE, Ariel Diaz, An...        Nick Lowe   \n",
       "22  Thomas Groneman, Vc Cory Petit, Alejandro Sanc...  Thomas Groneman   \n",
       "25  Jen Bartel, Vc Joe Caramagna, Andres Genolet, ...        Nick Lowe   \n",
       "26  Mark Basso, Vc Joe Caramagna, Tom Defalco, MAT...       Mark Basso   \n",
       "29  Mark Basso, Vc Joe Caramagna, Guru Efx, Benjam...       Mark Basso   \n",
       "30  Carola Borelli, Steve Foxe, David Nakayama, Em...   Emily Newcomen   \n",
       "32  Carmen Carnero, Al Ewing, Leonard Kirk, Emily ...   Emily Newcomen   \n",
       "33  Vc Clayton Cowles, David Curiel, Kieron Gillen...     Jordan White   \n",
       "35  Carola Borelli, Steve Foxe, Ema Lupacchino, El...   Elizabeth Pyle   \n",
       "38  Sarah Brunstad, Vc Ariana Maher, Joshua \"Sway”...   Sarah Brunstad   \n",
       "40  Mark Brooks, Vc Clayton Cowles, David Curiel, ...     Jordan White   \n",
       "43  Mark Basso, Vc Joe Caramagna, Tom Defalco, Tod...       Mark Basso   \n",
       "45  Daniel Acuna, Tom Brevoort, Al Ewing, Leonard ...     Tom Brevoort   \n",
       "47  Mark Basso, Giuseppe Camuncoli, Vc Joe Caramag...       Mark Basso   \n",
       "48  Vc Joe Caramagna, DEE CUNNIFFE, Andres Genolet...        Nick Lowe   \n",
       "49  Daniel Acuna, Mark Basso, Vc Joe Caramagna, Gu...       Mark Basso   \n",
       "52  Eve Ewing, Alexander Lozano, Emily Newcomen, V...   Emily Newcomen   \n",
       "54  Vc Joe Caramagna, Tom Defalco, John Kalisz, Em...   Emily Newcomen   \n",
       "55  Vc Joe Caramagna, Guru Efx, Hicham Habchi, Emi...   Emily Newcomen   \n",
       "57  Carola Borelli, Steve Foxe, PEACH MOMOKO, Emil...   Emily Newcomen   \n",
       "60  Vc Joe Caramagna, Michael Cho, Andres Genolet,...   Emily Newcomen   \n",
       "61  Jan Bazaldua, Ruairi Coleman, Sarah Brunstad, ...   Sarah Brunstad   \n",
       "63  Vc Ariana Maher, Emily Newcomen, Marguerite Sa...   Emily Newcomen   \n",
       "64  Tom Brevoort, Al Ewing, Leonard Kirk, Vc Cory ...     Tom Brevoort   \n",
       "65  Carola Borelli, Steve Foxe, Sunny Gho, Arif Pr...   Elizabeth Pyle   \n",
       "66  Vc Clayton Cowles, David Curiel, Kieron Gillen...     Jordan White   \n",
       "69  Mark Basso, Vc Joe Caramagna, Tom Defalco, Joh...       Mark Basso   \n",
       "70  Carola Borelli, Steve Foxe, Emily Newcomen, Vc...   Emily Newcomen   \n",
       "73  Jesus Aburtov, Christopher Allen, Mack Chater,...      Wilson Moss   \n",
       "79  Saladin Ahmed, Alessandro Cappuccio, Vc Joe Ca...        Nick Lowe   \n",
       "82  Pasqual Ferry, Jed Mackay, Heather Moore, Vc C...      Darren Shan   \n",
       "83  Mark Basso, Vincenzo Carratu, Vc Travis Lanham...       Mark Basso   \n",
       "86  Tom Brevoort, Gerry Duggan, Javier Garron, Mor...     Tom Brevoort   \n",
       "89  Tom Brevoort, Gerry Duggan, Javier Garron, Mor...     Tom Brevoort   \n",
       "90  Jesus Aburtov, D.G. Chichester, Martin Coccolo...   Emily Newcomen   \n",
       "91  Sarah Brunstad, Vc Joe Caramagna, Lee Garbett,...   Sarah Brunstad   \n",
       "96  Ryan Brown, Espen Grundetjern, Vc Travis Lanha...     Alanna Smith   \n",
       "\n",
       "           creators_writer                                        description  \\\n",
       "4          ['Tom Defalco']  BRING ON THE BAD GUYS! SPIDER-MAN, freshly att...   \n",
       "5          ['Alyssa Wong']  STEALING FROM THE STRANGES! Captain Marvel's t...   \n",
       "12           ['Eve Ewing']  A FACTION WAR BREWING IN BIRNIN T'CHAKA?  Blac...   \n",
       "13         ['Cody Ziglar']  THE PROWLER ENTERS THE BATTLEFIELD! HOBGOBLIN ...   \n",
       "14         ['Tom Defalco']  BRING ON THE BAD GUYS! SPIDER-MAN, freshly att...   \n",
       "20      ['Rainbow Rowell']  SHE-HULK & HULK face off against one of She-Hu...   \n",
       "22         ['Cody Ziglar']  THE PROWLER ENTERS THE BATTLEFIELD! HOBGOBLIN ...   \n",
       "25      ['Rainbow Rowell']  SHE-HULK & HULK face off against one of She-Hu...   \n",
       "26         ['Tom Defalco']  BRING ON THE BAD GUYS! SPIDER-MAN, freshly att...   \n",
       "29      ['Benjamin Percy']  X-FORCE: RELOADED! A SPECIAL ISSUE! X-FORCE RE...   \n",
       "30          ['Steve Foxe']  SPIDER-WOMAN GOES TO WAR… …against the GANG WA...   \n",
       "32            ['Al Ewing']  GO FOR THE JUGGLER! Her name is Janet Van Dyne...   \n",
       "33       ['Kieron Gillen']  FOREVER CHANGES! Being immortal means nothing ...   \n",
       "35          ['Steve Foxe']  SPIDER-WOMAN GOES TO WAR… …against the GANG WA...   \n",
       "38         ['Alyssa Wong']  STEALING FROM THE STRANGES! Captain Marvel's t...   \n",
       "40       ['Kieron Gillen']  FOREVER CHANGES! Being immortal means nothing ...   \n",
       "43         ['Tom Defalco']  BRING ON THE BAD GUYS! SPIDER-MAN, freshly att...   \n",
       "45            ['Al Ewing']  GO FOR THE JUGGLER! Her name is Janet Van Dyne...   \n",
       "47         ['Tom Defalco']  BRING ON THE BAD GUYS! SPIDER-MAN, freshly att...   \n",
       "48      ['Rainbow Rowell']  SHE-HULK & HULK face off against one of She-Hu...   \n",
       "49      ['Benjamin Percy']  X-FORCE: RELOADED! A SPECIAL ISSUE! X-FORCE RE...   \n",
       "52           ['Eve Ewing']  A FACTION WAR BREWING IN BIRNIN T'CHAKA?  Blac...   \n",
       "54         ['Tom Defalco']  BRING ON THE BAD GUYS! SPIDER-MAN, freshly att...   \n",
       "55      ['Benjamin Percy']  X-FORCE: RELOADED! A SPECIAL ISSUE! X-FORCE RE...   \n",
       "57          ['Steve Foxe']  SPIDER-WOMAN GOES TO WAR… …against the GANG WA...   \n",
       "60      ['Rainbow Rowell']  SHE-HULK & HULK face off against one of She-Hu...   \n",
       "61         ['Alyssa Wong']  STEALING FROM THE STRANGES! Captain Marvel's t...   \n",
       "63         ['Alyssa Wong']  STEALING FROM THE STRANGES! Captain Marvel's t...   \n",
       "64            ['Al Ewing']  GO FOR THE JUGGLER! Her name is Janet Van Dyne...   \n",
       "65          ['Steve Foxe']  SPIDER-WOMAN GOES TO WAR… …against the GANG WA...   \n",
       "66       ['Kieron Gillen']  FOREVER CHANGES! Being immortal means nothing ...   \n",
       "69         ['Tom Defalco']  BRING ON THE BAD GUYS! SPIDER-MAN, freshly att...   \n",
       "70          ['Steve Foxe']  SPIDER-WOMAN GOES TO WAR… …against the GANG WA...   \n",
       "73           ['Eve Ewing']  A FACTION WAR BREWING IN BIRNIN T'CHAKA? Black...   \n",
       "79       ['Saladin Ahmed']  Spider-Man gets stuck in the most horrifying h...   \n",
       "82          ['Jed Mackay']  GENERAL STRANGE VS. THE SORCERER SUPREME! Gene...   \n",
       "83       ['Steve Orlando']  SHATTERED! ORCHIS has figured out ICEMAN's sec...   \n",
       "86        ['Gerry Duggan']                         CAPTAIN KRAKOA - UNMASKED!   \n",
       "89        ['Gerry Duggan']                         CAPTAIN KRAKOA - UNMASKED!   \n",
       "90     ['D.G. Chichester']  BACK IN BLACK!  MATT MURDOCK will need to push...   \n",
       "91         ['Si Spurrier']  IN THE CLAWS OF THE VULTURE! Mystique is missi...   \n",
       "96  ['Stephanie Phillips']  With Capwolf at the helm, the Howling Commando...   \n",
       "\n",
       "                                           characters format  n_of_pages  \\\n",
       "4                                           Not given  Comic          32   \n",
       "5                                           Not given  Comic          32   \n",
       "12                                          Not given  Comic          32   \n",
       "13                                          Not given  Comic          32   \n",
       "14                                          Not given  Comic          32   \n",
       "20                                          Not given  Comic          32   \n",
       "22                Prowler, Spider-Man (Miles Morales)  Comic          32   \n",
       "25                  Hulk, She-Hulk (Jennifer Walters)  Comic          32   \n",
       "26                                          Not given  Comic          32   \n",
       "29                                          Not given  Comic          32   \n",
       "30                                          Not given  Comic          32   \n",
       "32                                          Not given  Comic          32   \n",
       "33                                          Not given  Comic          32   \n",
       "35                                          Not given  Comic          32   \n",
       "38                                          Not given  Comic          32   \n",
       "40  Charles Xavier, Destiny, Emma Frost, Exodus, H...  Comic          32   \n",
       "43                                          Not given  Comic          32   \n",
       "45                          Moon Knight, Vision, Wasp  Comic          32   \n",
       "47  Absorbing Man, Baron Zemo (Helmut Zemo), Const...  Comic          32   \n",
       "48                                          Not given  Comic          32   \n",
       "49  Black Tom, Colossus, Domino, Omega Red, Quenti...  Comic          32   \n",
       "52                                          Not given  Comic          32   \n",
       "54                                          Not given  Comic          32   \n",
       "55                                          Not given  Comic          32   \n",
       "57                                          Not given  Comic          32   \n",
       "60                                          Not given  Comic          32   \n",
       "61  Captain Marvel (Carol Danvers), Clea, Doctor S...  Comic          32   \n",
       "63                                          Not given  Comic          32   \n",
       "64                                          Not given  Comic          32   \n",
       "65  Madame Hydra, Nightshade, Spider-Woman (Jessic...  Comic          32   \n",
       "66                                          Not given  Comic          32   \n",
       "69                                          Not given  Comic          32   \n",
       "70                                          Not given  Comic          32   \n",
       "73                                      Black Panther  Comic          32   \n",
       "79                                          Not given  Comic          32   \n",
       "82                         Clea, Doctor Strange, Wong  Comic          32   \n",
       "83                                             Iceman  Comic          32   \n",
       "86  Black Widow, Captain America, Deadpool, M (Mon...  Comic          32   \n",
       "89                                          Not given  Comic          32   \n",
       "90                                          Not given  Comic          32   \n",
       "91                                          Not given  Comic          32   \n",
       "96                                    Captain America  Comic          32   \n",
       "\n",
       "    price  \n",
       "4    3.99  \n",
       "5    3.99  \n",
       "12   3.99  \n",
       "13   3.99  \n",
       "14   3.99  \n",
       "20   3.99  \n",
       "22   3.99  \n",
       "25   3.99  \n",
       "26   3.99  \n",
       "29   3.99  \n",
       "30   3.99  \n",
       "32   3.99  \n",
       "33   3.99  \n",
       "35   3.99  \n",
       "38   3.99  \n",
       "40   3.99  \n",
       "43   3.99  \n",
       "45   3.99  \n",
       "47   3.99  \n",
       "48   3.99  \n",
       "49   3.99  \n",
       "52   3.99  \n",
       "54   3.99  \n",
       "55   3.99  \n",
       "57   3.99  \n",
       "60   3.99  \n",
       "61   3.99  \n",
       "63   3.99  \n",
       "64   3.99  \n",
       "65   3.99  \n",
       "66   3.99  \n",
       "69   3.99  \n",
       "70   3.99  \n",
       "73   3.99  \n",
       "79   3.99  \n",
       "82   3.99  \n",
       "83   3.99  \n",
       "86   3.99  \n",
       "89   3.99  \n",
       "90   3.99  \n",
       "91   3.99  \n",
       "96   3.99  "
      ]
     },
     "execution_count": 73,
     "metadata": {},
     "output_type": "execute_result"
    }
   ],
   "source": [
    "min_price_publication = df.groupby(\"price\").get_group(3.99)\n",
    "min_price_publication"
   ]
  },
  {
   "cell_type": "code",
   "execution_count": 74,
   "id": "341f11e6",
   "metadata": {},
   "outputs": [
    {
     "data": {
      "text/plain": [
       "42"
      ]
     },
     "execution_count": 74,
     "metadata": {},
     "output_type": "execute_result"
    }
   ],
   "source": [
    "len(min_price_publication)"
   ]
  },
  {
   "cell_type": "markdown",
   "id": "0d5e3615",
   "metadata": {},
   "source": [
    "# Statistical Graphics"
   ]
  },
  {
   "cell_type": "markdown",
   "id": "91ce1961",
   "metadata": {},
   "source": [
    "For this final part, we apply thanks to **seaborn and matplotlib graphic libraries** that allow us to better **understand the statistics** obtained in a more visual way."
   ]
  },
  {
   "cell_type": "code",
   "execution_count": 75,
   "id": "78439b50",
   "metadata": {},
   "outputs": [],
   "source": [
    "import pandas as pd\n",
    "import seaborn as sns\n",
    "import matplotlib.pyplot as plt"
   ]
  },
  {
   "cell_type": "markdown",
   "id": "caf0ddb0",
   "metadata": {},
   "source": [
    "### Most Published Character"
   ]
  },
  {
   "cell_type": "markdown",
   "id": "645e23c2",
   "metadata": {},
   "source": [
    "*Performance Notes*:\n",
    "\n",
    "*This top 5 reflects the characters (or themes) that appear most in the publications of the sample. From the top 5 onwards the appearances are much less numerous, reflecting the great variety of main characters in other comics*"
   ]
  },
  {
   "cell_type": "code",
   "execution_count": 76,
   "id": "f6b1c8b1",
   "metadata": {},
   "outputs": [
    {
     "data": {
      "image/png": "[encoded data removed]",
      "text/plain": [
       "<Figure size 800x400 with 1 Axes>"
      ]
     },
     "metadata": {},
     "output_type": "display_data"
    }
   ],
   "source": [
    "sns.set(style=\"ticks\")\n",
    "plt.figure(figsize=(8, 4))\n",
    "sns.barplot(x=df_top5_mpc.index, y='appearances', data=df_top5_mpc, palette=\"crest\")\n",
    "plt.title('Most Published Character')\n",
    "plt.xlabel('Character')\n",
    "plt.ylabel('Appearances')\n",
    "plt.xticks(rotation=0)\n",
    "plt.show()"
   ]
  },
  {
   "cell_type": "markdown",
   "id": "13fca53f",
   "metadata": {},
   "source": [
    "### Series in Course"
   ]
  },
  {
   "cell_type": "markdown",
   "id": "3370081b",
   "metadata": {},
   "source": [
    "*Performance Notes*:\n",
    "\n",
    "*This pie-chart helps us visualize the trend for the continuous publication of open series compared to the publication of closed series and one-shots*.Ç"
   ]
  },
  {
   "cell_type": "code",
   "execution_count": 77,
   "id": "2ff25cad",
   "metadata": {},
   "outputs": [
    {
     "data": {
      "image/png": "[encoded data removed]",
      "text/plain": [
       "<Figure size 800x400 with 1 Axes>"
      ]
     },
     "metadata": {},
     "output_type": "display_data"
    }
   ],
   "source": [
    "sns.set_style(\"whitegrid\")\n",
    "plt.figure(figsize=(8, 4))\n",
    "plt.pie(df_series_counter['n_publications'], labels=df_series_counter.index, autopct='%1.0f%%', startangle=45, colors=sns.color_palette(\"crest\"))\n",
    "plt.title('Number of publications')\n",
    "plt.axis('equal') \n",
    "plt.show()"
   ]
  },
  {
   "cell_type": "markdown",
   "id": "490bd6cd",
   "metadata": {},
   "source": [
    "### Ranking On Sale Date"
   ]
  },
  {
   "cell_type": "markdown",
   "id": "bbe097c3",
   "metadata": {},
   "source": [
    "*Performance Notes:*\n",
    "\n",
    "*The Last 100 Comics of 2023 are published between December 29 and 20. As we can see, the 27th followed by the 23rd stand out as the busiest days*."
   ]
  },
  {
   "cell_type": "code",
   "execution_count": 78,
   "id": "d7ac605d",
   "metadata": {
    "scrolled": true
   },
   "outputs": [
    {
     "data": {
      "image/png": "[encoded data removed]",
      "text/plain": [
       "<Figure size 800x400 with 1 Axes>"
      ]
     },
     "metadata": {},
     "output_type": "display_data"
    }
   ],
   "source": [
    "sns.set(style=\"ticks\")\n",
    "plt.figure(figsize=(8, 4))\n",
    "sns.barplot(x=df_ranking_osd.index, y='n_publications', data=df_ranking_osd, palette=\"crest\")\n",
    "plt.title('Ranking On Sale Date')\n",
    "plt.xlabel('On Sale Date')\n",
    "plt.ylabel('Nº of publications')\n",
    "plt.xticks(rotation=0)\n",
    "plt.show()"
   ]
  },
  {
   "cell_type": "markdown",
   "id": "e9747eb8",
   "metadata": {},
   "source": [
    "### Ranking Editors"
   ]
  },
  {
   "cell_type": "markdown",
   "id": "fdd2aa83",
   "metadata": {},
   "source": [
    "*Performance Notes*:\n",
    "\n",
    "*The first editor in the ranking stands out in activity above the second in the graph. After the top 5, the appearances are reduced to almost an editor relationship per single publication*."
   ]
  },
  {
   "cell_type": "code",
   "execution_count": 79,
   "id": "26b50575",
   "metadata": {},
   "outputs": [
    {
     "data": {
      "image/png": "[encoded data removed]",
      "text/plain": [
       "<Figure size 800x400 with 1 Axes>"
      ]
     },
     "metadata": {},
     "output_type": "display_data"
    }
   ],
   "source": [
    "sns.set(style=\"ticks\")\n",
    "plt.figure(figsize=(8, 4))\n",
    "sns.barplot(x=df_top5_re.index, y='works', data=df_top5_re, palette=\"crest\")\n",
    "plt.title('Ranking Editors')\n",
    "plt.xlabel('Editors')\n",
    "plt.ylabel('Nº of works')\n",
    "plt.xticks(rotation=0)\n",
    "plt.show()"
   ]
  },
  {
   "cell_type": "markdown",
   "id": "b6146292",
   "metadata": {},
   "source": [
    "### Ranking Writers"
   ]
  },
  {
   "cell_type": "markdown",
   "id": "3eeb8bda",
   "metadata": {},
   "source": [
    "*Performance Notes*:\n",
    "\n",
    "*In this graph, the most prolific writer is not so far from those next at the top. It stands out that the works per writer are more numerous throughout the sample, in contrast to the activity of the editors*."
   ]
  },
  {
   "cell_type": "code",
   "execution_count": 80,
   "id": "de25f630",
   "metadata": {},
   "outputs": [
    {
     "data": {
      "image/png": "[encoded data removed]",
      "text/plain": [
       "<Figure size 800x400 with 1 Axes>"
      ]
     },
     "metadata": {},
     "output_type": "display_data"
    }
   ],
   "source": [
    "sns.set(style=\"ticks\")\n",
    "plt.figure(figsize=(8, 4))\n",
    "sns.barplot(x=df_top5_rw.index, y='works', data=df_top5_rw, palette=\"crest\")\n",
    "plt.title('Ranking Writers')\n",
    "plt.xlabel('Writers')\n",
    "plt.ylabel('Nº of works')\n",
    "plt.xticks(rotation=0)\n",
    "plt.gca().yaxis.set_major_formatter(plt.FuncFormatter(lambda x, loc: \"{:,}\".format(int(x))))\n",
    "plt.show()"
   ]
  },
  {
   "cell_type": "markdown",
   "id": "7424e27c",
   "metadata": {},
   "source": [
    "### Most Published Format"
   ]
  },
  {
   "cell_type": "markdown",
   "id": "48247c1a",
   "metadata": {},
   "source": [
    "*Performance Notes*:\n",
    "\n",
    "*It is clearly seen how the comic format predominates compared to the other three types. It must also be understood that both \"Trade Paperback\" and \"Hardcover\" are special formats that are not so recurring. And \"Digital Vertical Comic\" is a subscription publishing venture that is starting to work now*."
   ]
  },
  {
   "cell_type": "code",
   "execution_count": 81,
   "id": "755b892c",
   "metadata": {
    "scrolled": true
   },
   "outputs": [
    {
     "data": {
      "image/png": "[encoded data removed]",
      "text/plain": [
       "<Figure size 800x400 with 1 Axes>"
      ]
     },
     "metadata": {},
     "output_type": "display_data"
    }
   ],
   "source": [
    "sns.set(style=\"ticks\")\n",
    "plt.figure(figsize=(8, 4))\n",
    "sns.barplot(x=df_format.index, y='n_publications', data=df_format, palette=\"crest\")\n",
    "plt.title('Most Published Format')\n",
    "plt.xlabel('Format')\n",
    "plt.ylabel('Nº of works')\n",
    "plt.xticks(rotation=0)\n",
    "plt.gca().yaxis.set_major_formatter(plt.FuncFormatter(lambda x, loc: \"{:,}\".format(int(x))))\n",
    "plt.show()"
   ]
  },
  {
   "cell_type": "markdown",
   "id": "7b23245a",
   "metadata": {},
   "source": [
    "### Format-Pages Statistics"
   ]
  },
  {
   "cell_type": "markdown",
   "id": "71c6d421",
   "metadata": {},
   "source": [
    "*Performance Notes*:\n",
    "\n",
    "*The chart reflects 5 measurable values (number of publications, totality of pages, average number of pages, maximun pages and minimum pages per comic) in relation to publications formats and their respective pages*."
   ]
  },
  {
   "cell_type": "code",
   "execution_count": 82,
   "id": "50f25976",
   "metadata": {},
   "outputs": [
    {
     "data": {
      "image/png": "[encoded data removed]",
      "text/plain": [
       "<Figure size 1200x600 with 1 Axes>"
      ]
     },
     "metadata": {},
     "output_type": "display_data"
    }
   ],
   "source": [
    "df_fp_stats = df_pages_format.reset_index()\n",
    "\n",
    "df_plot = df_fp_stats.melt(id_vars='format', var_name='metric', value_name='value')\n",
    "\n",
    "sns.set(style=\"ticks\")\n",
    "plt.figure(figsize=(12, 6))\n",
    "\n",
    "sns.barplot(x='format', y='value', hue='metric', data=df_plot, palette=[\"#7EAF92\", \"#4E8A86\", \"#316E7E\", \"#2B667C\", \"#2F5075\"])\n",
    "plt.title('Format-Pages Statistics')\n",
    "plt.xlabel('Format')\n",
    "plt.ylabel('Value')\n",
    "\n",
    "plt.xticks(rotation=0, ha='right')\n",
    "\n",
    "plt.legend(title='Legend')\n",
    "\n",
    "plt.tight_layout()\n",
    "plt.show()"
   ]
  },
  {
   "cell_type": "markdown",
   "id": "35a1fab7",
   "metadata": {},
   "source": [
    "### Format-Prices Statistics"
   ]
  },
  {
   "cell_type": "markdown",
   "id": "69292bb7",
   "metadata": {},
   "source": [
    "*Performance Notes*:\n",
    "\n",
    "*The chart reflects 5 measurable values (number of publications, totality of prices, average prices, maximun price and minimum price per comic) in relation to publications formats and their respective prices*."
   ]
  },
  {
   "cell_type": "code",
   "execution_count": 83,
   "id": "6ebcaf69",
   "metadata": {},
   "outputs": [
    {
     "data": {
      "image/png": "[encoded data removed]",
      "text/plain": [
       "<Figure size 1200x600 with 1 Axes>"
      ]
     },
     "metadata": {},
     "output_type": "display_data"
    }
   ],
   "source": [
    "df_fpr_stats = df_prices_format.reset_index()\n",
    "\n",
    "df_plot = df_fpr_stats.melt(id_vars='format', var_name='metric', value_name='value')\n",
    "\n",
    "sns.set(style=\"ticks\")\n",
    "plt.figure(figsize=(12, 6))\n",
    "\n",
    "sns.barplot(x='format', y='value', hue='metric', data=df_plot, palette=[\"#7EAF92\", \"#4E8A86\", \"#316E7E\", \"#2B667C\", \"#2F5075\"])\n",
    "plt.title('Format-Pages Statistics')\n",
    "plt.xlabel('Format')\n",
    "plt.ylabel('Value')\n",
    "\n",
    "plt.xticks(rotation=0, ha='right')\n",
    "\n",
    "plt.legend(title='Legend')\n",
    "\n",
    "plt.tight_layout()\n",
    "plt.show()"
   ]
  }
 ],
 "metadata": {
  "kernelspec": {
   "display_name": "Python 3 (ipykernel)",
   "language": "python",
   "name": "python3"
  },
  "language_info": {
   "codemirror_mode": {
    "name": "ipython",
    "version": 3
   },
   "file_extension": ".py",
   "mimetype": "text/x-python",
   "name": "python",
   "nbconvert_exporter": "python",
   "pygments_lexer": "ipython3",
   "version": "3.11.5"
  }
 },
 "nbformat": 4,
 "nbformat_minor": 5
}
